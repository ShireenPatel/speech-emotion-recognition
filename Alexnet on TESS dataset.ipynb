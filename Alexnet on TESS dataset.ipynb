{
 "cells": [
  {
   "cell_type": "code",
   "execution_count": 1,
   "metadata": {},
   "outputs": [
    {
     "name": "stdout",
     "output_type": "stream",
     "text": [
      "Requirement already satisfied: opencv-python in c:\\users\\shireen\\lib\\site-packages (4.4.0.40)\n",
      "Requirement already satisfied: numpy>=1.17.3 in c:\\users\\shireen\\lib\\site-packages (from opencv-python) (1.18.5)\n"
     ]
    }
   ],
   "source": [
    "!pip install opencv-python\n",
    "import os\n",
    "import cv2\n",
    "import numpy as np\n",
    "from PIL import Image\n",
    "import matplotlib.pyplot as plt\n",
    "from sklearn.model_selection import train_test_split"
   ]
  },
  {
   "cell_type": "code",
   "execution_count": 2,
   "metadata": {},
   "outputs": [
    {
     "name": "stdout",
     "output_type": "stream",
     "text": [
      "No. of images loaded =  2800 \n",
      "No. of labels loaded =  2800\n",
      "<class 'list'> <class 'list'>\n"
     ]
    }
   ],
   "source": [
    "categories = os.listdir(\"C:/Users/Shireen/A FINAL TESS ATTEMPT/data/spectograms/\")\n",
    "def load_images_and_labels(categories):\n",
    "    img_lst=[]\n",
    "    labels=[]\n",
    "    for index, category in enumerate(categories):\n",
    "        for image_name in os.listdir(fpath+\"/\"+category):\n",
    "            img = cv2.imread(fpath+\"/\"+category+\"/\"+image_name)\n",
    "            img = cv2.cvtColor(img, cv2.COLOR_BGR2RGB)\n",
    "            \n",
    "            img_array = Image.fromarray(img, 'RGB')\n",
    "            \n",
    "            #resize image to 227 x 227 because the input image resolution for Alexnet is 227 x 227\n",
    "            resized_img = img_array.resize((227, 227))\n",
    "            \n",
    "            img_lst.append(np.array(resized_img))\n",
    "            \n",
    "            labels.append(index)\n",
    "    return img_lst, labels\n",
    "\n",
    "fpath = \"C:/Users/Shireen/A FINAL TESS ATTEMPT/data/spectograms/\"\n",
    "images, labels = load_images_and_labels(categories)\n",
    "print(\"No. of images loaded = \",len(images),\"\\nNo. of labels loaded = \",len(labels))\n",
    "print(type(images),type(labels))"
   ]
  },
  {
   "cell_type": "code",
   "execution_count": 3,
   "metadata": {},
   "outputs": [
    {
     "name": "stdout",
     "output_type": "stream",
     "text": [
      "Images shape =  (2800, 227, 227, 3) \n",
      "Labels shape =  (2800,)\n",
      "<class 'numpy.ndarray'> <class 'numpy.ndarray'>\n"
     ]
    }
   ],
   "source": [
    "images = np.array(images)\n",
    "labels = np.array(labels)\n",
    "\n",
    "print(\"Images shape = \",images.shape,\"\\nLabels shape = \",labels.shape)\n",
    "print(type(images),type(labels))"
   ]
  },
  {
   "cell_type": "code",
   "execution_count": 4,
   "metadata": {},
   "outputs": [
    {
     "name": "stdout",
     "output_type": "stream",
     "text": [
      "'n' values before shuffling =  [   0    1    2 ... 2797 2798 2799]\n",
      "\n",
      "'n' values after shuffling =  [1088  772 2161 ... 1130 1294  860]\n"
     ]
    }
   ],
   "source": [
    "#1-step in data shuffling\n",
    "random_seed=42\n",
    "#get equally spaced numbers in a given range\n",
    "n = np.arange(images.shape[0])\n",
    "print(\"'n' values before shuffling = \",n)\n",
    "\n",
    "#shuffle all the equally spaced values in list 'n'\n",
    "np.random.seed(random_seed)\n",
    "np.random.shuffle(n)\n",
    "print(\"\\n'n' values after shuffling = \",n)"
   ]
  },
  {
   "cell_type": "code",
   "execution_count": 5,
   "metadata": {},
   "outputs": [
    {
     "name": "stdout",
     "output_type": "stream",
     "text": [
      "Images shape after shuffling =  (2800, 227, 227, 3) \n",
      "Labels shape after shuffling =  (2800,)\n"
     ]
    }
   ],
   "source": [
    "#2-step in data shuffling\n",
    "\n",
    "#shuffle images and corresponding labels data in both the lists\n",
    "images = images[n]\n",
    "labels = labels[n]\n",
    "\n",
    "print(\"Images shape after shuffling = \",images.shape,\"\\nLabels shape after shuffling = \",labels.shape)"
   ]
  },
  {
   "cell_type": "code",
   "execution_count": 6,
   "metadata": {},
   "outputs": [
    {
     "name": "stdout",
     "output_type": "stream",
     "text": [
      "Images shape after normalization =  (2800, 227, 227, 3)\n"
     ]
    }
   ],
   "source": [
    "images = images.astype(np.float32)\n",
    "labels = labels.astype(np.int32)\n",
    "images = images/255\n",
    "print(\"Images shape after normalization = \",images.shape)"
   ]
  },
  {
   "cell_type": "code",
   "execution_count": 7,
   "metadata": {},
   "outputs": [
    {
     "name": "stdout",
     "output_type": "stream",
     "text": [
      "x_train shape =  (2240, 227, 227, 3)\n",
      "y_train shape =  (2240,)\n",
      "\n",
      "x_test shape =  (560, 227, 227, 3)\n",
      "y_test shape =  (560,)\n"
     ]
    }
   ],
   "source": [
    "x_train, x_test, y_train, y_test = train_test_split(images, labels, test_size = 0.2, random_state = random_seed)\n",
    "\n",
    "print(\"x_train shape = \",x_train.shape)\n",
    "print(\"y_train shape = \",y_train.shape)\n",
    "print(\"\\nx_test shape = \",x_test.shape)\n",
    "print(\"y_test shape = \",y_test.shape)"
   ]
  },
  {
   "cell_type": "code",
   "execution_count": 8,
   "metadata": {},
   "outputs": [],
   "source": [
    "from tensorflow import keras\n",
    "from keras.models import Sequential\n",
    "from keras.layers import Conv2D,MaxPooling2D,Dense,Flatten,Dropout\n",
    "from keras.layers.normalization import BatchNormalization"
   ]
  },
  {
   "cell_type": "code",
   "execution_count": 31,
   "metadata": {},
   "outputs": [
    {
     "name": "stdout",
     "output_type": "stream",
     "text": [
      "Model: \"sequential_3\"\n",
      "_________________________________________________________________\n",
      "Layer (type)                 Output Shape              Param #   \n",
      "=================================================================\n",
      "conv2d_5 (Conv2D)            (None, 55, 55, 96)        34944     \n",
      "_________________________________________________________________\n",
      "max_pooling2d_3 (MaxPooling2 (None, 27, 27, 96)        0         \n",
      "_________________________________________________________________\n",
      "batch_normalization_6 (Batch (None, 27, 27, 96)        384       \n",
      "_________________________________________________________________\n",
      "conv2d_6 (Conv2D)            (None, 23, 23, 256)       614656    \n",
      "_________________________________________________________________\n",
      "max_pooling2d_4 (MaxPooling2 (None, 11, 11, 256)       0         \n",
      "_________________________________________________________________\n",
      "batch_normalization_7 (Batch (None, 11, 11, 256)       1024      \n",
      "_________________________________________________________________\n",
      "conv2d_7 (Conv2D)            (None, 9, 9, 384)         885120    \n",
      "_________________________________________________________________\n",
      "conv2d_8 (Conv2D)            (None, 7, 7, 384)         1327488   \n",
      "_________________________________________________________________\n",
      "conv2d_9 (Conv2D)            (None, 5, 5, 256)         884992    \n",
      "_________________________________________________________________\n",
      "max_pooling2d_5 (MaxPooling2 (None, 2, 2, 256)         0         \n",
      "_________________________________________________________________\n",
      "batch_normalization_8 (Batch (None, 2, 2, 256)         1024      \n",
      "_________________________________________________________________\n",
      "flatten_2 (Flatten)          (None, 1024)              0         \n",
      "_________________________________________________________________\n",
      "dense_6 (Dense)              (None, 4096)              4198400   \n",
      "_________________________________________________________________\n",
      "dropout_3 (Dropout)          (None, 4096)              0         \n",
      "_________________________________________________________________\n",
      "batch_normalization_9 (Batch (None, 4096)              16384     \n",
      "_________________________________________________________________\n",
      "dense_7 (Dense)              (None, 4096)              16781312  \n",
      "_________________________________________________________________\n",
      "dropout_4 (Dropout)          (None, 4096)              0         \n",
      "_________________________________________________________________\n",
      "batch_normalization_10 (Batc (None, 4096)              16384     \n",
      "_________________________________________________________________\n",
      "dense_8 (Dense)              (None, 1000)              4097000   \n",
      "_________________________________________________________________\n",
      "dropout_5 (Dropout)          (None, 1000)              0         \n",
      "_________________________________________________________________\n",
      "batch_normalization_11 (Batc (None, 1000)              4000      \n",
      "_________________________________________________________________\n",
      "dense_9 (Dense)              (None, 20)                20020     \n",
      "=================================================================\n",
      "Total params: 28,883,132\n",
      "Trainable params: 28,863,532\n",
      "Non-trainable params: 19,600\n",
      "_________________________________________________________________\n"
     ]
    }
   ],
   "source": [
    "model=Sequential()\n",
    "\n",
    "#1 conv layer\n",
    "model.add(Conv2D(filters=96,kernel_size=(11,11),strides=(4,4),padding=\"valid\",activation=\"relu\",input_shape=(227,227,3)))\n",
    "\n",
    "#1 max pool layer\n",
    "model.add(MaxPooling2D(pool_size=(3,3),strides=(2,2)))\n",
    "\n",
    "model.add(BatchNormalization())\n",
    "\n",
    "#2 conv layer\n",
    "model.add(Conv2D(filters=256,kernel_size=(5,5),strides=(1,1),padding=\"valid\",activation=\"relu\"))\n",
    "\n",
    "#2 max pool layer\n",
    "model.add(MaxPooling2D(pool_size=(3,3),strides=(2,2)))\n",
    "\n",
    "model.add(BatchNormalization())\n",
    "\n",
    "#3 conv layer\n",
    "model.add(Conv2D(filters=384,kernel_size=(3,3),strides=(1,1),padding=\"valid\",activation=\"relu\"))\n",
    "\n",
    "#4 conv layer\n",
    "model.add(Conv2D(filters=384,kernel_size=(3,3),strides=(1,1),padding=\"valid\",activation=\"relu\"))\n",
    "\n",
    "#5 conv layer\n",
    "model.add(Conv2D(filters=256,kernel_size=(3,3),strides=(1,1),padding=\"valid\",activation=\"relu\"))\n",
    "\n",
    "#3 max pool layer\n",
    "model.add(MaxPooling2D(pool_size=(3,3),strides=(2,2)))\n",
    "\n",
    "model.add(BatchNormalization())\n",
    "\n",
    "\n",
    "model.add(Flatten())\n",
    "\n",
    "#1 dense layer\n",
    "model.add(Dense(4096,input_shape=(227,227,3),activation=\"relu\"))\n",
    "\n",
    "model.add(Dropout(0.4))\n",
    "\n",
    "model.add(BatchNormalization())\n",
    "\n",
    "#2 dense layer\n",
    "model.add(Dense(4096,activation=\"relu\"))\n",
    "\n",
    "model.add(Dropout(0.4))\n",
    "\n",
    "model.add(BatchNormalization())\n",
    "\n",
    "#3 dense layer\n",
    "model.add(Dense(1000,activation=\"relu\"))\n",
    "\n",
    "model.add(Dropout(0.4))\n",
    "\n",
    "model.add(BatchNormalization())\n",
    "\n",
    "#output layer\n",
    "model.add(Dense(20,activation=\"softmax\"))\n",
    "\n",
    "model.summary()"
   ]
  },
  {
   "cell_type": "code",
   "execution_count": 32,
   "metadata": {},
   "outputs": [],
   "source": [
    "model.compile(optimizer=\"adam\", loss=\"sparse_categorical_crossentropy\", metrics=[\"accuracy\"])"
   ]
  },
  {
   "cell_type": "code",
   "execution_count": 33,
   "metadata": {},
   "outputs": [
    {
     "name": "stdout",
     "output_type": "stream",
     "text": [
      "Epoch 1/20\n",
      "18/18 [==============================] - 122s 7s/step - loss: 1.0729 - accuracy: 0.7183\n",
      "Epoch 2/20\n",
      "18/18 [==============================] - 123s 7s/step - loss: 0.1304 - accuracy: 0.9607\n",
      "Epoch 3/20\n",
      "18/18 [==============================] - 121s 7s/step - loss: 0.0589 - accuracy: 0.9812\n",
      "Epoch 4/20\n",
      "18/18 [==============================] - 122s 7s/step - loss: 0.0349 - accuracy: 0.9911\n",
      "Epoch 5/20\n",
      "18/18 [==============================] - 121s 7s/step - loss: 0.0167 - accuracy: 0.9937\n",
      "Epoch 6/20\n",
      "18/18 [==============================] - 122s 7s/step - loss: 0.0101 - accuracy: 0.9973\n",
      "Epoch 7/20\n",
      "18/18 [==============================] - 122s 7s/step - loss: 0.0294 - accuracy: 0.9929\n",
      "Epoch 8/20\n",
      "18/18 [==============================] - 121s 7s/step - loss: 0.0098 - accuracy: 0.9964\n",
      "Epoch 9/20\n",
      "18/18 [==============================] - 121s 7s/step - loss: 0.0109 - accuracy: 0.9960\n",
      "Epoch 10/20\n",
      "18/18 [==============================] - 122s 7s/step - loss: 0.0199 - accuracy: 0.9951\n",
      "Epoch 11/20\n",
      "18/18 [==============================] - 123s 7s/step - loss: 0.0061 - accuracy: 0.9987\n",
      "Epoch 12/20\n",
      "18/18 [==============================] - 121s 7s/step - loss: 0.0041 - accuracy: 0.9991\n",
      "Epoch 13/20\n",
      "18/18 [==============================] - 121s 7s/step - loss: 0.0132 - accuracy: 0.9964\n",
      "Epoch 14/20\n",
      "18/18 [==============================] - 127s 7s/step - loss: 0.0289 - accuracy: 0.9929\n",
      "Epoch 15/20\n",
      "18/18 [==============================] - 121s 7s/step - loss: 0.0077 - accuracy: 0.9978\n",
      "Epoch 16/20\n",
      "18/18 [==============================] - 122s 7s/step - loss: 0.0068 - accuracy: 0.9978\n",
      "Epoch 17/20\n",
      "18/18 [==============================] - 121s 7s/step - loss: 0.0062 - accuracy: 0.9978\n",
      "Epoch 18/20\n",
      "18/18 [==============================] - 123s 7s/step - loss: 0.0029 - accuracy: 0.9996\n",
      "Epoch 19/20\n",
      "18/18 [==============================] - 130s 7s/step - loss: 0.0014 - accuracy: 0.9996\n",
      "Epoch 20/20\n",
      "18/18 [==============================] - 125s 7s/step - loss: 0.0045 - accuracy: 0.9991\n",
      "Wall time: 43min 23s\n"
     ]
    },
    {
     "data": {
      "text/plain": [
       "<tensorflow.python.keras.callbacks.History at 0x1edc2681940>"
      ]
     },
     "execution_count": 33,
     "metadata": {},
     "output_type": "execute_result"
    }
   ],
   "source": [
    "%%time\n",
    "model.fit(x_train, y_train, epochs=10,batch_size=128)"
   ]
  },
  {
   "cell_type": "code",
   "execution_count": 34,
   "metadata": {},
   "outputs": [
    {
     "name": "stdout",
     "output_type": "stream",
     "text": [
      "Test loss: 0.7960949540138245\n",
      "Test accuracy: 0.8232142925262451\n"
     ]
    }
   ],
   "source": [
    "score = model.evaluate(x_test, y_test, verbose=0)\n",
    "print('Test loss:', score[0])\n",
    "print('Test accuracy:', score[1])"
   ]
  },
  {
   "cell_type": "code",
   "execution_count": 21,
   "metadata": {},
   "outputs": [],
   "source": [
    "from keras.layers import Dense, Flatten, Reshape, Input, InputLayer\n",
    "from keras.models import Sequential, Model\n",
    "\n",
    "def build_autoencoder(img_shape, code_size):\n",
    "    # The encoder\n",
    "    encoder = Sequential()\n",
    "    encoder.add(InputLayer(img_shape))\n",
    "    encoder.add(Flatten())\n",
    "    encoder.add(Dense(code_size))\n",
    "\n",
    "    # The decoder\n",
    "    decoder = Sequential()\n",
    "    decoder.add(InputLayer((code_size,)))\n",
    "    decoder.add(Dense(np.prod(img_shape)))\n",
    "    decoder.add(Reshape(img_shape))\n",
    "\n",
    "    return encoder, decoder"
   ]
  },
  {
   "cell_type": "code",
   "execution_count": 22,
   "metadata": {},
   "outputs": [
    {
     "name": "stdout",
     "output_type": "stream",
     "text": [
      "Model: \"functional_1\"\n",
      "_________________________________________________________________\n",
      "Layer (type)                 Output Shape              Param #   \n",
      "=================================================================\n",
      "input_3 (InputLayer)         [(None, 227, 227, 3)]     0         \n",
      "_________________________________________________________________\n",
      "sequential_1 (Sequential)    (None, 32)                4946816   \n",
      "_________________________________________________________________\n",
      "sequential_2 (Sequential)    (None, 227, 227, 3)       5101371   \n",
      "=================================================================\n",
      "Total params: 10,048,187\n",
      "Trainable params: 10,048,187\n",
      "Non-trainable params: 0\n",
      "_________________________________________________________________\n",
      "None\n"
     ]
    }
   ],
   "source": [
    "IMG_SHAPE = images.shape[1:]\n",
    "encoder, decoder = build_autoencoder(IMG_SHAPE, 32)\n",
    "\n",
    "inp = Input(IMG_SHAPE)\n",
    "code = encoder(inp)\n",
    "reconstruction = decoder(code)\n",
    "\n",
    "autoencoder = Model(inp,reconstruction)\n",
    "autoencoder.compile(optimizer='adamax', loss='mse')\n",
    "\n",
    "print(autoencoder.summary())"
   ]
  },
  {
   "cell_type": "code",
   "execution_count": 23,
   "metadata": {},
   "outputs": [
    {
     "name": "stdout",
     "output_type": "stream",
     "text": [
      "Epoch 1/20\n",
      "70/70 [==============================] - 10s 136ms/step - loss: 0.3361 - val_loss: 0.0000e+00\n",
      "Epoch 2/20\n",
      "70/70 [==============================] - 9s 135ms/step - loss: 0.0146 - val_loss: 0.0000e+00\n",
      "Epoch 3/20\n",
      "70/70 [==============================] - 10s 137ms/step - loss: 0.0144 - val_loss: 0.0000e+00\n",
      "Epoch 4/20\n",
      "70/70 [==============================] - 10s 136ms/step - loss: 0.0144 - val_loss: 0.0000e+00\n",
      "Epoch 5/20\n",
      "70/70 [==============================] - 10s 137ms/step - loss: 0.0144 - val_loss: 0.0000e+00\n",
      "Epoch 6/20\n",
      "70/70 [==============================] - 10s 138ms/step - loss: 0.0143 - val_loss: 0.0000e+00\n",
      "Epoch 7/20\n",
      "70/70 [==============================] - 10s 137ms/step - loss: 0.0143 - val_loss: 0.0000e+00\n",
      "Epoch 8/20\n",
      "70/70 [==============================] - 10s 138ms/step - loss: 0.0143 - val_loss: 0.0000e+00\n",
      "Epoch 9/20\n",
      "70/70 [==============================] - 10s 138ms/step - loss: 0.0143 - val_loss: 0.0000e+00\n",
      "Epoch 10/20\n",
      "70/70 [==============================] - 10s 139ms/step - loss: 0.0143 - val_loss: 0.0000e+00\n",
      "Epoch 11/20\n",
      "70/70 [==============================] - 10s 139ms/step - loss: 0.0142 - val_loss: 0.0000e+00\n",
      "Epoch 12/20\n",
      "70/70 [==============================] - 10s 139ms/step - loss: 0.0142 - val_loss: 0.0000e+00\n",
      "Epoch 13/20\n",
      "70/70 [==============================] - 10s 138ms/step - loss: 0.0142 - val_loss: 0.0000e+00\n",
      "Epoch 14/20\n",
      "70/70 [==============================] - 11s 154ms/step - loss: 0.0142 - val_loss: 0.0000e+00\n",
      "Epoch 15/20\n",
      "70/70 [==============================] - 12s 164ms/step - loss: 0.0141 - val_loss: 0.0000e+00\n",
      "Epoch 16/20\n",
      "70/70 [==============================] - 10s 136ms/step - loss: 0.0141 - val_loss: 0.0000e+00\n",
      "Epoch 17/20\n",
      "70/70 [==============================] - 9s 135ms/step - loss: 0.0140 - val_loss: 0.0000e+00\n",
      "Epoch 18/20\n",
      "70/70 [==============================] - 9s 133ms/step - loss: 0.0139 - val_loss: 0.0000e+00\n",
      "Epoch 19/20\n",
      "70/70 [==============================] - 9s 134ms/step - loss: 0.0137 - val_loss: 0.0000e+00\n",
      "Epoch 20/20\n",
      "70/70 [==============================] - 10s 138ms/step - loss: 0.0136 - val_loss: 0.0000e+00\n"
     ]
    }
   ],
   "source": [
    "history = autoencoder.fit(x=x_train, y=x_train, epochs=20,\n",
    "                validation_data=[x_test, x_test])"
   ]
  },
  {
   "cell_type": "code",
   "execution_count": 24,
   "metadata": {},
   "outputs": [
    {
     "name": "stderr",
     "output_type": "stream",
     "text": [
      "Clipping input data to the valid range for imshow with RGB data ([0..1] for floats or [0..255] for integers).\n"
     ]
    },
    {
     "data": {
      "image/png": "[encoded data removed]",
      "text/plain": [
       "<Figure size 1440x288 with 2 Axes>"
      ]
     },
     "metadata": {
      "needs_background": "light"
     },
     "output_type": "display_data"
    },
    {
     "name": "stdout",
     "output_type": "stream",
     "text": [
      "Accuracy= 0.9316340610384941 \n",
      "\n"
     ]
    }
   ],
   "source": [
    "decoded_imgs = autoencoder.predict(images)\n",
    "\n",
    "n = 1\n",
    "plt.figure(figsize=(20, 4))\n",
    "for i in range(n):\n",
    "    # display original\n",
    "    ax = plt.subplot(2, n, i+1)\n",
    "    plt.imshow(images[i].reshape(227, 227,3))\n",
    "    plt.gray()\n",
    "    ax.get_xaxis().set_visible(False)\n",
    "    ax.get_yaxis().set_visible(False)\n",
    "\n",
    "    # display reconstruction\n",
    "    ax = plt.subplot(2, n, i + n+1)\n",
    "    plt.imshow(decoded_imgs[i].reshape(227, 227,3))\n",
    "    plt.gray()\n",
    "    ax.get_xaxis().set_visible(False)\n",
    "    ax.get_yaxis().set_visible(False)\n",
    "plt.show()\n",
    "\n",
    "print(\"Accuracy=\",1-np.mean(abs(images-decoded_imgs)),'\\n')"
   ]
  },
  {
   "cell_type": "code",
   "execution_count": 25,
   "metadata": {},
   "outputs": [
    {
     "name": "stdout",
     "output_type": "stream",
     "text": [
      "x_train shape =  (2240, 227, 227, 3)\n",
      "y_train shape =  (2240,)\n",
      "\n",
      "x_test shape =  (560, 227, 227, 3)\n",
      "y_test shape =  (560,)\n"
     ]
    }
   ],
   "source": [
    "X_train, X_test, Y_train, Y_test = train_test_split(decoded_imgs, labels, test_size = 0.2, random_state = random_seed)\n",
    "\n",
    "print(\"x_train shape = \",X_train.shape)\n",
    "print(\"y_train shape = \",Y_train.shape)\n",
    "print(\"\\nx_test shape = \",X_test.shape)\n",
    "print(\"y_test shape = \",Y_test.shape)"
   ]
  },
  {
   "cell_type": "code",
   "execution_count": 27,
   "metadata": {},
   "outputs": [
    {
     "name": "stdout",
     "output_type": "stream",
     "text": [
      "Epoch 1/100\n",
      "18/18 [==============================] - 120s 7s/step - loss: 1.5275 - accuracy: 0.4165\n",
      "Epoch 2/100\n",
      "18/18 [==============================] - 123s 7s/step - loss: 1.5510 - accuracy: 0.3991\n",
      "Epoch 3/100\n",
      "18/18 [==============================] - 121s 7s/step - loss: 1.5077 - accuracy: 0.4259\n",
      "Epoch 4/100\n",
      "18/18 [==============================] - 119s 7s/step - loss: 1.4886 - accuracy: 0.4223\n",
      "Epoch 5/100\n",
      "18/18 [==============================] - 119s 7s/step - loss: 1.4838 - accuracy: 0.4286\n",
      "Epoch 6/100\n",
      "18/18 [==============================] - 122s 7s/step - loss: 1.4192 - accuracy: 0.4460\n",
      "Epoch 7/100\n",
      "18/18 [==============================] - 120s 7s/step - loss: 1.3833 - accuracy: 0.4589\n",
      "Epoch 8/100\n",
      "18/18 [==============================] - 120s 7s/step - loss: 1.3664 - accuracy: 0.4714\n",
      "Epoch 9/100\n",
      "18/18 [==============================] - 120s 7s/step - loss: 1.3301 - accuracy: 0.4821\n",
      "Epoch 10/100\n",
      "18/18 [==============================] - 132s 7s/step - loss: 1.3461 - accuracy: 0.4759\n",
      "Epoch 11/100\n",
      "18/18 [==============================] - 122s 7s/step - loss: 1.3150 - accuracy: 0.4875\n",
      "Epoch 12/100\n",
      "18/18 [==============================] - 124s 7s/step - loss: 1.2663 - accuracy: 0.5094\n",
      "Epoch 13/100\n",
      "18/18 [==============================] - 123s 7s/step - loss: 1.2484 - accuracy: 0.5085\n",
      "Epoch 14/100\n",
      "18/18 [==============================] - 123s 7s/step - loss: 1.2546 - accuracy: 0.5058\n",
      "Epoch 15/100\n",
      "18/18 [==============================] - 122s 7s/step - loss: 1.3295 - accuracy: 0.4795\n",
      "Epoch 16/100\n",
      "18/18 [==============================] - 122s 7s/step - loss: 1.2934 - accuracy: 0.4897\n",
      "Epoch 17/100\n",
      "18/18 [==============================] - 121s 7s/step - loss: 1.2357 - accuracy: 0.5241\n",
      "Epoch 18/100\n",
      "18/18 [==============================] - 120s 7s/step - loss: 1.2345 - accuracy: 0.5179\n",
      "Epoch 19/100\n",
      "18/18 [==============================] - 121s 7s/step - loss: 1.1943 - accuracy: 0.5353\n",
      "Epoch 20/100\n",
      "18/18 [==============================] - 120s 7s/step - loss: 1.1980 - accuracy: 0.5397\n",
      "Epoch 21/100\n",
      "18/18 [==============================] - 121s 7s/step - loss: 1.1614 - accuracy: 0.5482\n",
      "Epoch 22/100\n",
      "18/18 [==============================] - 120s 7s/step - loss: 1.1915 - accuracy: 0.5353\n",
      "Epoch 23/100\n",
      "18/18 [==============================] - 122s 7s/step - loss: 1.1982 - accuracy: 0.5192\n",
      "Epoch 24/100\n",
      "18/18 [==============================] - 125s 7s/step - loss: 1.1572 - accuracy: 0.5509\n",
      "Epoch 25/100\n",
      "18/18 [==============================] - 124s 7s/step - loss: 1.1622 - accuracy: 0.5500\n",
      "Epoch 26/100\n",
      "18/18 [==============================] - 124s 7s/step - loss: 1.1145 - accuracy: 0.5594\n",
      "Epoch 27/100\n",
      "18/18 [==============================] - 123s 7s/step - loss: 1.0752 - accuracy: 0.5777\n",
      "Epoch 28/100\n",
      "18/18 [==============================] - 122s 7s/step - loss: 1.0987 - accuracy: 0.5652\n",
      "Epoch 29/100\n",
      "18/18 [==============================] - 121s 7s/step - loss: 1.1282 - accuracy: 0.5603\n",
      "Epoch 30/100\n",
      "18/18 [==============================] - 121s 7s/step - loss: 1.0664 - accuracy: 0.5884\n",
      "Epoch 31/100\n",
      "18/18 [==============================] - 121s 7s/step - loss: 1.0520 - accuracy: 0.5911\n",
      "Epoch 32/100\n",
      "18/18 [==============================] - 121s 7s/step - loss: 1.0917 - accuracy: 0.5835\n",
      "Epoch 33/100\n",
      "18/18 [==============================] - 121s 7s/step - loss: 1.0726 - accuracy: 0.5768\n",
      "Epoch 34/100\n",
      "18/18 [==============================] - 122s 7s/step - loss: 1.0192 - accuracy: 0.5946\n",
      "Epoch 35/100\n",
      "18/18 [==============================] - 121s 7s/step - loss: 0.9879 - accuracy: 0.6062\n",
      "Epoch 36/100\n",
      "18/18 [==============================] - 121s 7s/step - loss: 0.9714 - accuracy: 0.6250\n",
      "Epoch 37/100\n",
      "18/18 [==============================] - 121s 7s/step - loss: 0.9486 - accuracy: 0.6357\n",
      "Epoch 38/100\n",
      "18/18 [==============================] - 121s 7s/step - loss: 1.0416 - accuracy: 0.6004\n",
      "Epoch 39/100\n",
      "18/18 [==============================] - 120s 7s/step - loss: 0.9986 - accuracy: 0.6205\n",
      "Epoch 40/100\n",
      "18/18 [==============================] - 120s 7s/step - loss: 0.9570 - accuracy: 0.6295\n",
      "Epoch 41/100\n",
      "18/18 [==============================] - 120s 7s/step - loss: 0.9205 - accuracy: 0.6348\n",
      "Epoch 42/100\n",
      "18/18 [==============================] - 121s 7s/step - loss: 0.9198 - accuracy: 0.6446\n",
      "Epoch 43/100\n",
      "18/18 [==============================] - 120s 7s/step - loss: 0.8990 - accuracy: 0.6603\n",
      "Epoch 44/100\n",
      "18/18 [==============================] - 121s 7s/step - loss: 0.8646 - accuracy: 0.6683\n",
      "Epoch 45/100\n",
      "18/18 [==============================] - 120s 7s/step - loss: 0.8471 - accuracy: 0.6777\n",
      "Epoch 46/100\n",
      "18/18 [==============================] - 120s 7s/step - loss: 0.8210 - accuracy: 0.6795\n",
      "Epoch 47/100\n",
      "18/18 [==============================] - 120s 7s/step - loss: 0.8527 - accuracy: 0.6710\n",
      "Epoch 48/100\n",
      "18/18 [==============================] - 120s 7s/step - loss: 0.8459 - accuracy: 0.6897\n",
      "Epoch 49/100\n",
      "18/18 [==============================] - 120s 7s/step - loss: 0.8209 - accuracy: 0.6853\n",
      "Epoch 50/100\n",
      "18/18 [==============================] - 120s 7s/step - loss: 0.8147 - accuracy: 0.6844\n",
      "Epoch 51/100\n",
      "18/18 [==============================] - 120s 7s/step - loss: 0.8012 - accuracy: 0.6893\n",
      "Epoch 52/100\n",
      "18/18 [==============================] - 121s 7s/step - loss: 0.8221 - accuracy: 0.6884\n",
      "Epoch 53/100\n",
      "18/18 [==============================] - 120s 7s/step - loss: 0.8207 - accuracy: 0.6857\n",
      "Epoch 54/100\n",
      "18/18 [==============================] - 120s 7s/step - loss: 0.7896 - accuracy: 0.6996\n",
      "Epoch 55/100\n",
      "18/18 [==============================] - 121s 7s/step - loss: 0.7772 - accuracy: 0.6996\n",
      "Epoch 56/100\n",
      "18/18 [==============================] - 120s 7s/step - loss: 0.7614 - accuracy: 0.7112\n",
      "Epoch 57/100\n",
      "18/18 [==============================] - 121s 7s/step - loss: 0.8268 - accuracy: 0.6839\n",
      "Epoch 58/100\n",
      "18/18 [==============================] - 120s 7s/step - loss: 0.7503 - accuracy: 0.7165\n",
      "Epoch 59/100\n",
      "18/18 [==============================] - 120s 7s/step - loss: 0.7338 - accuracy: 0.7094\n",
      "Epoch 60/100\n",
      "18/18 [==============================] - 120s 7s/step - loss: 0.7424 - accuracy: 0.7179\n",
      "Epoch 61/100\n",
      "18/18 [==============================] - 120s 7s/step - loss: 0.8070 - accuracy: 0.6915\n",
      "Epoch 62/100\n",
      "18/18 [==============================] - 120s 7s/step - loss: 0.7345 - accuracy: 0.7174\n",
      "Epoch 63/100\n",
      "18/18 [==============================] - 120s 7s/step - loss: 0.6944 - accuracy: 0.7290\n",
      "Epoch 64/100\n",
      "18/18 [==============================] - 120s 7s/step - loss: 0.6651 - accuracy: 0.7487\n",
      "Epoch 65/100\n",
      "18/18 [==============================] - 120s 7s/step - loss: 0.7637 - accuracy: 0.7143\n",
      "Epoch 66/100\n",
      "18/18 [==============================] - 121s 7s/step - loss: 0.6765 - accuracy: 0.7420\n",
      "Epoch 67/100\n",
      "18/18 [==============================] - 121s 7s/step - loss: 0.6606 - accuracy: 0.7504\n",
      "Epoch 68/100\n",
      "18/18 [==============================] - 123s 7s/step - loss: 0.6604 - accuracy: 0.7429\n",
      "Epoch 69/100\n",
      "18/18 [==============================] - 120s 7s/step - loss: 0.6630 - accuracy: 0.7411\n",
      "Epoch 70/100\n",
      "18/18 [==============================] - 121s 7s/step - loss: 0.6502 - accuracy: 0.7482\n",
      "Epoch 71/100\n",
      "18/18 [==============================] - 120s 7s/step - loss: 0.6432 - accuracy: 0.7549\n",
      "Epoch 72/100\n",
      "18/18 [==============================] - 120s 7s/step - loss: 0.6371 - accuracy: 0.7536\n",
      "Epoch 73/100\n",
      "18/18 [==============================] - 121s 7s/step - loss: 0.6835 - accuracy: 0.7330\n",
      "Epoch 74/100\n",
      "18/18 [==============================] - 120s 7s/step - loss: 0.6786 - accuracy: 0.7254\n",
      "Epoch 75/100\n",
      "18/18 [==============================] - 120s 7s/step - loss: 0.6733 - accuracy: 0.7451\n",
      "Epoch 76/100\n",
      "18/18 [==============================] - 120s 7s/step - loss: 0.6435 - accuracy: 0.7487\n",
      "Epoch 77/100\n",
      "18/18 [==============================] - 120s 7s/step - loss: 0.6025 - accuracy: 0.7799\n",
      "Epoch 78/100\n",
      "18/18 [==============================] - 120s 7s/step - loss: 0.6027 - accuracy: 0.7665\n",
      "Epoch 79/100\n",
      "18/18 [==============================] - 120s 7s/step - loss: 0.5917 - accuracy: 0.7705\n",
      "Epoch 80/100\n",
      "18/18 [==============================] - 120s 7s/step - loss: 0.6044 - accuracy: 0.7696\n",
      "Epoch 81/100\n",
      "18/18 [==============================] - 120s 7s/step - loss: 0.5780 - accuracy: 0.7862\n",
      "Epoch 82/100\n",
      "18/18 [==============================] - 121s 7s/step - loss: 0.6410 - accuracy: 0.7487\n",
      "Epoch 83/100\n",
      "18/18 [==============================] - 120s 7s/step - loss: 0.5744 - accuracy: 0.7830\n",
      "Epoch 84/100\n",
      "18/18 [==============================] - 121s 7s/step - loss: 0.5666 - accuracy: 0.7812\n",
      "Epoch 85/100\n",
      "18/18 [==============================] - 123s 7s/step - loss: 0.5795 - accuracy: 0.7812\n",
      "Epoch 86/100\n",
      "18/18 [==============================] - 121s 7s/step - loss: 0.6013 - accuracy: 0.7781\n",
      "Epoch 87/100\n",
      "18/18 [==============================] - 122s 7s/step - loss: 0.5559 - accuracy: 0.7848\n",
      "Epoch 88/100\n",
      "18/18 [==============================] - 122s 7s/step - loss: 0.5464 - accuracy: 0.7929\n",
      "Epoch 89/100\n",
      "18/18 [==============================] - 121s 7s/step - loss: 0.5101 - accuracy: 0.8103\n",
      "Epoch 90/100\n",
      "18/18 [==============================] - 121s 7s/step - loss: 0.5099 - accuracy: 0.8076\n",
      "Epoch 91/100\n",
      "18/18 [==============================] - 120s 7s/step - loss: 0.5161 - accuracy: 0.8049\n",
      "Epoch 92/100\n",
      "18/18 [==============================] - 120s 7s/step - loss: 0.5552 - accuracy: 0.7982\n",
      "Epoch 93/100\n",
      "18/18 [==============================] - 120s 7s/step - loss: 0.5264 - accuracy: 0.8058\n",
      "Epoch 94/100\n",
      "18/18 [==============================] - 121s 7s/step - loss: 0.5140 - accuracy: 0.7987\n",
      "Epoch 95/100\n",
      "18/18 [==============================] - 120s 7s/step - loss: 0.4942 - accuracy: 0.8179\n",
      "Epoch 96/100\n",
      "18/18 [==============================] - 120s 7s/step - loss: 0.4929 - accuracy: 0.8170\n",
      "Epoch 97/100\n",
      "18/18 [==============================] - 120s 7s/step - loss: 0.4957 - accuracy: 0.8134\n",
      "Epoch 98/100\n",
      "18/18 [==============================] - 121s 7s/step - loss: 0.4884 - accuracy: 0.8147\n",
      "Epoch 99/100\n",
      "18/18 [==============================] - 121s 7s/step - loss: 0.5050 - accuracy: 0.8125\n",
      "Epoch 100/100\n",
      "18/18 [==============================] - 121s 7s/step - loss: 0.4885 - accuracy: 0.8125\n",
      "Wall time: 3h 33min 49s\n"
     ]
    },
    {
     "data": {
      "text/plain": [
       "<tensorflow.python.keras.callbacks.History at 0x1edbf721910>"
      ]
     },
     "execution_count": 27,
     "metadata": {},
     "output_type": "execute_result"
    }
   ],
   "source": [
    "%%time\n",
    "model.fit(X_train, Y_train, epochs=100, batch_size=128)"
   ]
  },
  {
   "cell_type": "code",
   "execution_count": 28,
   "metadata": {},
   "outputs": [
    {
     "name": "stdout",
     "output_type": "stream",
     "text": [
      "Test loss: 3.35880446434021\n",
      "Test accuracy: 0.4303571283817291\n"
     ]
    }
   ],
   "source": [
    "score = model.evaluate(X_test, Y_test, verbose=0)\n",
    "print('Test loss:', score[0])\n",
    "print('Test accuracy:', score[1])"
   ]
  }
 ],
 "metadata": {
  "kernelspec": {
   "display_name": "Python 3",
   "language": "python",
   "name": "python3"
  },
  "language_info": {
   "codemirror_mode": {
    "name": "ipython",
    "version": 3
   },
   "file_extension": ".py",
   "mimetype": "text/x-python",
   "name": "python",
   "nbconvert_exporter": "python",
   "pygments_lexer": "ipython3",
   "version": "3.8.5"
  }
 },
 "nbformat": 4,
 "nbformat_minor": 4
}
