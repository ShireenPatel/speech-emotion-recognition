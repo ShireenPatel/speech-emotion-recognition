{
  "nbformat": 4,
  "nbformat_minor": 0,
  "metadata": {
    "colab": {
      "name": "SER USING TORONTO SPEECH DATASET.ipynb",
      "provenance": [],
      "include_colab_link": true
    },
    "kernelspec": {
      "name": "python3",
      "display_name": "Python 3"
    }
  },
  "cells": [
    {
      "cell_type": "markdown",
      "metadata": {
        "id": "view-in-github",
        "colab_type": "text"
      },
      "source": [
        "<a href=\"https://colab.research.google.com/github/ShireenPatel/speech-emotion-recognition/blob/master/SVM%2C%20Decision%20Tree%2C%20CNN%20on%20TORONTO%20dataset.ipynb\" target=\"_parent\"><img src=\"https://colab.research.google.com/assets/colab-badge.svg\" alt=\"Open In Colab\"/></a>"
      ]
    },
    {
      "cell_type": "code",
      "metadata": {
        "id": "lDdJRnowmW9U",
        "colab_type": "code",
        "colab": {}
      },
      "source": [
        "!pip install tensorflow==1.14.0"
      ],
      "execution_count": null,
      "outputs": []
    },
    {
      "cell_type": "code",
      "metadata": {
        "id": "f3BSkSCkgHpJ",
        "colab_type": "code",
        "colab": {
          "base_uri": "https://localhost:8080/",
          "height": 121
        },
        "outputId": "1147b43f-9688-49ce-8f18-beafb789211b"
      },
      "source": [
        "from google.colab import drive\n",
        "drive.mount('/content/drive')"
      ],
      "execution_count": null,
      "outputs": [
        {
          "output_type": "stream",
          "text": [
            "Go to this URL in a browser: https://accounts.google.com/o/oauth2/auth?client_id=947318989803-6bn6qk8qdgf4n4g3pfee6491hc0brc4i.apps.googleusercontent.com&redirect_uri=urn%3aietf%3awg%3aoauth%3a2.0%3aoob&response_type=code&scope=email%20https%3a%2f%2fwww.googleapis.com%2fauth%2fdocs.test%20https%3a%2f%2fwww.googleapis.com%2fauth%2fdrive%20https%3a%2f%2fwww.googleapis.com%2fauth%2fdrive.photos.readonly%20https%3a%2f%2fwww.googleapis.com%2fauth%2fpeopleapi.readonly\n",
            "\n",
            "Enter your authorization code:\n",
            "··········\n",
            "Mounted at /content/drive\n"
          ],
          "name": "stdout"
        }
      ]
    },
    {
      "cell_type": "code",
      "metadata": {
        "id": "SvBkohPDgYUk",
        "colab_type": "code",
        "colab": {
          "resources": {
            "http://localhost:8080/nbextensions/google.colab/files.js": {
              "data": "Ly8gQ29weXJpZ2h0IDIwMTcgR29vZ2xlIExMQwovLwovLyBMaWNlbnNlZCB1bmRlciB0aGUgQXBhY2hlIExpY2Vuc2UsIFZlcnNpb24gMi4wICh0aGUgIkxpY2Vuc2UiKTsKLy8geW91IG1heSBub3QgdXNlIHRoaXMgZmlsZSBleGNlcHQgaW4gY29tcGxpYW5jZSB3aXRoIHRoZSBMaWNlbnNlLgovLyBZb3UgbWF5IG9idGFpbiBhIGNvcHkgb2YgdGhlIExpY2Vuc2UgYXQKLy8KLy8gICAgICBodHRwOi8vd3d3LmFwYWNoZS5vcmcvbGljZW5zZXMvTElDRU5TRS0yLjAKLy8KLy8gVW5sZXNzIHJlcXVpcmVkIGJ5IGFwcGxpY2FibGUgbGF3IG9yIGFncmVlZCB0byBpbiB3cml0aW5nLCBzb2Z0d2FyZQovLyBkaXN0cmlidXRlZCB1bmRlciB0aGUgTGljZW5zZSBpcyBkaXN0cmlidXRlZCBvbiBhbiAiQVMgSVMiIEJBU0lTLAovLyBXSVRIT1VUIFdBUlJBTlRJRVMgT1IgQ09ORElUSU9OUyBPRiBBTlkgS0lORCwgZWl0aGVyIGV4cHJlc3Mgb3IgaW1wbGllZC4KLy8gU2VlIHRoZSBMaWNlbnNlIGZvciB0aGUgc3BlY2lmaWMgbGFuZ3VhZ2UgZ292ZXJuaW5nIHBlcm1pc3Npb25zIGFuZAovLyBsaW1pdGF0aW9ucyB1bmRlciB0aGUgTGljZW5zZS4KCi8qKgogKiBAZmlsZW92ZXJ2aWV3IEhlbHBlcnMgZm9yIGdvb2dsZS5jb2xhYiBQeXRob24gbW9kdWxlLgogKi8KKGZ1bmN0aW9uKHNjb3BlKSB7CmZ1bmN0aW9uIHNwYW4odGV4dCwgc3R5bGVBdHRyaWJ1dGVzID0ge30pIHsKICBjb25zdCBlbGVtZW50ID0gZG9jdW1lbnQuY3JlYXRlRWxlbWVudCgnc3BhbicpOwogIGVsZW1lbnQudGV4dENvbnRlbnQgPSB0ZXh0OwogIGZvciAoY29uc3Qga2V5IG9mIE9iamVjdC5rZXlzKHN0eWxlQXR0cmlidXRlcykpIHsKICAgIGVsZW1lbnQuc3R5bGVba2V5XSA9IHN0eWxlQXR0cmlidXRlc1trZXldOwogIH0KICByZXR1cm4gZWxlbWVudDsKfQoKLy8gTWF4IG51bWJlciBvZiBieXRlcyB3aGljaCB3aWxsIGJlIHVwbG9hZGVkIGF0IGEgdGltZS4KY29uc3QgTUFYX1BBWUxPQURfU0laRSA9IDEwMCAqIDEwMjQ7Ci8vIE1heCBhbW91bnQgb2YgdGltZSB0byBibG9jayB3YWl0aW5nIGZvciB0aGUgdXNlci4KY29uc3QgRklMRV9DSEFOR0VfVElNRU9VVF9NUyA9IDMwICogMTAwMDsKCmZ1bmN0aW9uIF91cGxvYWRGaWxlcyhpbnB1dElkLCBvdXRwdXRJZCkgewogIGNvbnN0IHN0ZXBzID0gdXBsb2FkRmlsZXNTdGVwKGlucHV0SWQsIG91dHB1dElkKTsKICBjb25zdCBvdXRwdXRFbGVtZW50ID0gZG9jdW1lbnQuZ2V0RWxlbWVudEJ5SWQob3V0cHV0SWQpOwogIC8vIENhY2hlIHN0ZXBzIG9uIHRoZSBvdXRwdXRFbGVtZW50IHRvIG1ha2UgaXQgYXZhaWxhYmxlIGZvciB0aGUgbmV4dCBjYWxsCiAgLy8gdG8gdXBsb2FkRmlsZXNDb250aW51ZSBmcm9tIFB5dGhvbi4KICBvdXRwdXRFbGVtZW50LnN0ZXBzID0gc3RlcHM7CgogIHJldHVybiBfdXBsb2FkRmlsZXNDb250aW51ZShvdXRwdXRJZCk7Cn0KCi8vIFRoaXMgaXMgcm91Z2hseSBhbiBhc3luYyBnZW5lcmF0b3IgKG5vdCBzdXBwb3J0ZWQgaW4gdGhlIGJyb3dzZXIgeWV0KSwKLy8gd2hlcmUgdGhlcmUgYXJlIG11bHRpcGxlIGFzeW5jaHJvbm91cyBzdGVwcyBhbmQgdGhlIFB5dGhvbiBzaWRlIGlzIGdvaW5nCi8vIHRvIHBvbGwgZm9yIGNvbXBsZXRpb24gb2YgZWFjaCBzdGVwLgovLyBUaGlzIHVzZXMgYSBQcm9taXNlIHRvIGJsb2NrIHRoZSBweXRob24gc2lkZSBvbiBjb21wbGV0aW9uIG9mIGVhY2ggc3RlcCwKLy8gdGhlbiBwYXNzZXMgdGhlIHJlc3VsdCBvZiB0aGUgcHJldmlvdXMgc3RlcCBhcyB0aGUgaW5wdXQgdG8gdGhlIG5leHQgc3RlcC4KZnVuY3Rpb24gX3VwbG9hZEZpbGVzQ29udGludWUob3V0cHV0SWQpIHsKICBjb25zdCBvdXRwdXRFbGVtZW50ID0gZG9jdW1lbnQuZ2V0RWxlbWVudEJ5SWQob3V0cHV0SWQpOwogIGNvbnN0IHN0ZXBzID0gb3V0cHV0RWxlbWVudC5zdGVwczsKCiAgY29uc3QgbmV4dCA9IHN0ZXBzLm5leHQob3V0cHV0RWxlbWVudC5sYXN0UHJvbWlzZVZhbHVlKTsKICByZXR1cm4gUHJvbWlzZS5yZXNvbHZlKG5leHQudmFsdWUucHJvbWlzZSkudGhlbigodmFsdWUpID0+IHsKICAgIC8vIENhY2hlIHRoZSBsYXN0IHByb21pc2UgdmFsdWUgdG8gbWFrZSBpdCBhdmFpbGFibGUgdG8gdGhlIG5leHQKICAgIC8vIHN0ZXAgb2YgdGhlIGdlbmVyYXRvci4KICAgIG91dHB1dEVsZW1lbnQubGFzdFByb21pc2VWYWx1ZSA9IHZhbHVlOwogICAgcmV0dXJuIG5leHQudmFsdWUucmVzcG9uc2U7CiAgfSk7Cn0KCi8qKgogKiBHZW5lcmF0b3IgZnVuY3Rpb24gd2hpY2ggaXMgY2FsbGVkIGJldHdlZW4gZWFjaCBhc3luYyBzdGVwIG9mIHRoZSB1cGxvYWQKICogcHJvY2Vzcy4KICogQHBhcmFtIHtzdHJpbmd9IGlucHV0SWQgRWxlbWVudCBJRCBvZiB0aGUgaW5wdXQgZmlsZSBwaWNrZXIgZWxlbWVudC4KICogQHBhcmFtIHtzdHJpbmd9IG91dHB1dElkIEVsZW1lbnQgSUQgb2YgdGhlIG91dHB1dCBkaXNwbGF5LgogKiBAcmV0dXJuIHshSXRlcmFibGU8IU9iamVjdD59IEl0ZXJhYmxlIG9mIG5leHQgc3RlcHMuCiAqLwpmdW5jdGlvbiogdXBsb2FkRmlsZXNTdGVwKGlucHV0SWQsIG91dHB1dElkKSB7CiAgY29uc3QgaW5wdXRFbGVtZW50ID0gZG9jdW1lbnQuZ2V0RWxlbWVudEJ5SWQoaW5wdXRJZCk7CiAgaW5wdXRFbGVtZW50LmRpc2FibGVkID0gZmFsc2U7CgogIGNvbnN0IG91dHB1dEVsZW1lbnQgPSBkb2N1bWVudC5nZXRFbGVtZW50QnlJZChvdXRwdXRJZCk7CiAgb3V0cHV0RWxlbWVudC5pbm5lckhUTUwgPSAnJzsKCiAgY29uc3QgcGlja2VkUHJvbWlzZSA9IG5ldyBQcm9taXNlKChyZXNvbHZlKSA9PiB7CiAgICBpbnB1dEVsZW1lbnQuYWRkRXZlbnRMaXN0ZW5lcignY2hhbmdlJywgKGUpID0+IHsKICAgICAgcmVzb2x2ZShlLnRhcmdldC5maWxlcyk7CiAgICB9KTsKICB9KTsKCiAgY29uc3QgY2FuY2VsID0gZG9jdW1lbnQuY3JlYXRlRWxlbWVudCgnYnV0dG9uJyk7CiAgaW5wdXRFbGVtZW50LnBhcmVudEVsZW1lbnQuYXBwZW5kQ2hpbGQoY2FuY2VsKTsKICBjYW5jZWwudGV4dENvbnRlbnQgPSAnQ2FuY2VsIHVwbG9hZCc7CiAgY29uc3QgY2FuY2VsUHJvbWlzZSA9IG5ldyBQcm9taXNlKChyZXNvbHZlKSA9PiB7CiAgICBjYW5jZWwub25jbGljayA9ICgpID0+IHsKICAgICAgcmVzb2x2ZShudWxsKTsKICAgIH07CiAgfSk7CgogIC8vIENhbmNlbCB1cGxvYWQgaWYgdXNlciBoYXNuJ3QgcGlja2VkIGFueXRoaW5nIGluIHRpbWVvdXQuCiAgY29uc3QgdGltZW91dFByb21pc2UgPSBuZXcgUHJvbWlzZSgocmVzb2x2ZSkgPT4gewogICAgc2V0VGltZW91dCgoKSA9PiB7CiAgICAgIHJlc29sdmUobnVsbCk7CiAgICB9LCBGSUxFX0NIQU5HRV9USU1FT1VUX01TKTsKICB9KTsKCiAgLy8gV2FpdCBmb3IgdGhlIHVzZXIgdG8gcGljayB0aGUgZmlsZXMuCiAgY29uc3QgZmlsZXMgPSB5aWVsZCB7CiAgICBwcm9taXNlOiBQcm9taXNlLnJhY2UoW3BpY2tlZFByb21pc2UsIHRpbWVvdXRQcm9taXNlLCBjYW5jZWxQcm9taXNlXSksCiAgICByZXNwb25zZTogewogICAgICBhY3Rpb246ICdzdGFydGluZycsCiAgICB9CiAgfTsKCiAgaWYgKCFmaWxlcykgewogICAgcmV0dXJuIHsKICAgICAgcmVzcG9uc2U6IHsKICAgICAgICBhY3Rpb246ICdjb21wbGV0ZScsCiAgICAgIH0KICAgIH07CiAgfQoKICBjYW5jZWwucmVtb3ZlKCk7CgogIC8vIERpc2FibGUgdGhlIGlucHV0IGVsZW1lbnQgc2luY2UgZnVydGhlciBwaWNrcyBhcmUgbm90IGFsbG93ZWQuCiAgaW5wdXRFbGVtZW50LmRpc2FibGVkID0gdHJ1ZTsKCiAgZm9yIChjb25zdCBmaWxlIG9mIGZpbGVzKSB7CiAgICBjb25zdCBsaSA9IGRvY3VtZW50LmNyZWF0ZUVsZW1lbnQoJ2xpJyk7CiAgICBsaS5hcHBlbmQoc3BhbihmaWxlLm5hbWUsIHtmb250V2VpZ2h0OiAnYm9sZCd9KSk7CiAgICBsaS5hcHBlbmQoc3BhbigKICAgICAgICBgKCR7ZmlsZS50eXBlIHx8ICduL2EnfSkgLSAke2ZpbGUuc2l6ZX0gYnl0ZXMsIGAgKwogICAgICAgIGBsYXN0IG1vZGlmaWVkOiAkewogICAgICAgICAgICBmaWxlLmxhc3RNb2RpZmllZERhdGUgPyBmaWxlLmxhc3RNb2RpZmllZERhdGUudG9Mb2NhbGVEYXRlU3RyaW5nKCkgOgogICAgICAgICAgICAgICAgICAgICAgICAgICAgICAgICAgICAnbi9hJ30gLSBgKSk7CiAgICBjb25zdCBwZXJjZW50ID0gc3BhbignMCUgZG9uZScpOwogICAgbGkuYXBwZW5kQ2hpbGQocGVyY2VudCk7CgogICAgb3V0cHV0RWxlbWVudC5hcHBlbmRDaGlsZChsaSk7CgogICAgY29uc3QgZmlsZURhdGFQcm9taXNlID0gbmV3IFByb21pc2UoKHJlc29sdmUpID0+IHsKICAgICAgY29uc3QgcmVhZGVyID0gbmV3IEZpbGVSZWFkZXIoKTsKICAgICAgcmVhZGVyLm9ubG9hZCA9IChlKSA9PiB7CiAgICAgICAgcmVzb2x2ZShlLnRhcmdldC5yZXN1bHQpOwogICAgICB9OwogICAgICByZWFkZXIucmVhZEFzQXJyYXlCdWZmZXIoZmlsZSk7CiAgICB9KTsKICAgIC8vIFdhaXQgZm9yIHRoZSBkYXRhIHRvIGJlIHJlYWR5LgogICAgbGV0IGZpbGVEYXRhID0geWllbGQgewogICAgICBwcm9taXNlOiBmaWxlRGF0YVByb21pc2UsCiAgICAgIHJlc3BvbnNlOiB7CiAgICAgICAgYWN0aW9uOiAnY29udGludWUnLAogICAgICB9CiAgICB9OwoKICAgIC8vIFVzZSBhIGNodW5rZWQgc2VuZGluZyB0byBhdm9pZCBtZXNzYWdlIHNpemUgbGltaXRzLiBTZWUgYi82MjExNTY2MC4KICAgIGxldCBwb3NpdGlvbiA9IDA7CiAgICB3aGlsZSAocG9zaXRpb24gPCBmaWxlRGF0YS5ieXRlTGVuZ3RoKSB7CiAgICAgIGNvbnN0IGxlbmd0aCA9IE1hdGgubWluKGZpbGVEYXRhLmJ5dGVMZW5ndGggLSBwb3NpdGlvbiwgTUFYX1BBWUxPQURfU0laRSk7CiAgICAgIGNvbnN0IGNodW5rID0gbmV3IFVpbnQ4QXJyYXkoZmlsZURhdGEsIHBvc2l0aW9uLCBsZW5ndGgpOwogICAgICBwb3NpdGlvbiArPSBsZW5ndGg7CgogICAgICBjb25zdCBiYXNlNjQgPSBidG9hKFN0cmluZy5mcm9tQ2hhckNvZGUuYXBwbHkobnVsbCwgY2h1bmspKTsKICAgICAgeWllbGQgewogICAgICAgIHJlc3BvbnNlOiB7CiAgICAgICAgICBhY3Rpb246ICdhcHBlbmQnLAogICAgICAgICAgZmlsZTogZmlsZS5uYW1lLAogICAgICAgICAgZGF0YTogYmFzZTY0LAogICAgICAgIH0sCiAgICAgIH07CiAgICAgIHBlcmNlbnQudGV4dENvbnRlbnQgPQogICAgICAgICAgYCR7TWF0aC5yb3VuZCgocG9zaXRpb24gLyBmaWxlRGF0YS5ieXRlTGVuZ3RoKSAqIDEwMCl9JSBkb25lYDsKICAgIH0KICB9CgogIC8vIEFsbCBkb25lLgogIHlpZWxkIHsKICAgIHJlc3BvbnNlOiB7CiAgICAgIGFjdGlvbjogJ2NvbXBsZXRlJywKICAgIH0KICB9Owp9CgpzY29wZS5nb29nbGUgPSBzY29wZS5nb29nbGUgfHwge307CnNjb3BlLmdvb2dsZS5jb2xhYiA9IHNjb3BlLmdvb2dsZS5jb2xhYiB8fCB7fTsKc2NvcGUuZ29vZ2xlLmNvbGFiLl9maWxlcyA9IHsKICBfdXBsb2FkRmlsZXMsCiAgX3VwbG9hZEZpbGVzQ29udGludWUsCn07Cn0pKHNlbGYpOwo=",
              "ok": true,
              "headers": [
                [
                  "content-type",
                  "application/javascript"
                ]
              ],
              "status": 200,
              "status_text": ""
            }
          },
          "base_uri": "https://localhost:8080/",
          "height": 91
        },
        "outputId": "b1c1af36-0b5e-4aab-f843-39e2dac00a06"
      },
      "source": [
        "from google.colab import files\n",
        "!pip install -q kaggle\n",
        "from google.colab import files\n",
        "files.upload()"
      ],
      "execution_count": null,
      "outputs": [
        {
          "output_type": "display_data",
          "data": {
            "text/html": [
              "\n",
              "     <input type=\"file\" id=\"files-d6b32966-eef6-418a-87c8-0c2cb57600a5\" name=\"files[]\" multiple disabled />\n",
              "     <output id=\"result-d6b32966-eef6-418a-87c8-0c2cb57600a5\">\n",
              "      Upload widget is only available when the cell has been executed in the\n",
              "      current browser session. Please rerun this cell to enable.\n",
              "      </output>\n",
              "      <script src=\"/nbextensions/google.colab/files.js\"></script> "
            ],
            "text/plain": [
              "<IPython.core.display.HTML object>"
            ]
          },
          "metadata": {
            "tags": []
          }
        },
        {
          "output_type": "stream",
          "text": [
            "Saving kaggle.json to kaggle (1).json\n"
          ],
          "name": "stdout"
        },
        {
          "output_type": "execute_result",
          "data": {
            "text/plain": [
              "{'kaggle.json': b'{\"username\":\"patelshireendharmesh\",\"key\":\"a383b88dc708b648ed3d3741fbd96af0\"}'}"
            ]
          },
          "metadata": {
            "tags": []
          },
          "execution_count": 5
        }
      ]
    },
    {
      "cell_type": "code",
      "metadata": {
        "id": "dWzGhQj7gfxl",
        "colab_type": "code",
        "colab": {}
      },
      "source": [
        "!mkdir -p ~/.kaggle\n",
        "!cp kaggle.json ~/.kaggle/\n",
        "!chmod 600 ~/.kaggle/kaggle.json"
      ],
      "execution_count": null,
      "outputs": []
    },
    {
      "cell_type": "code",
      "metadata": {
        "id": "g_GE4gluglnT",
        "colab_type": "code",
        "colab": {
          "base_uri": "https://localhost:8080/",
          "height": 34
        },
        "outputId": "6b7441d7-004d-40db-e351-c321920f1132"
      },
      "source": [
        "!kaggle datasets download -d ejlok1/toronto-emotional-speech-set-tess"
      ],
      "execution_count": null,
      "outputs": [
        {
          "output_type": "stream",
          "text": [
            "toronto-emotional-speech-set-tess.zip: Skipping, found more recently modified local copy (use --force to force download)\n"
          ],
          "name": "stdout"
        }
      ]
    },
    {
      "cell_type": "code",
      "metadata": {
        "id": "2lzZu-3TgskG",
        "colab_type": "code",
        "colab": {
          "base_uri": "https://localhost:8080/",
          "height": 50
        },
        "outputId": "e73c3c8a-b223-4ff3-a114-15a1f4c0ac15"
      },
      "source": [
        "!ls"
      ],
      "execution_count": null,
      "outputs": [
        {
          "output_type": "stream",
          "text": [
            " drive\t\t    kaggle.json   toronto\n",
            "'kaggle (1).json'   sample_data   toronto-emotional-speech-set-tess.zip\n"
          ],
          "name": "stdout"
        }
      ]
    },
    {
      "cell_type": "code",
      "metadata": {
        "id": "YGOqF36PgwdH",
        "colab_type": "code",
        "colab": {
          "base_uri": "https://localhost:8080/",
          "height": 67
        },
        "outputId": "31439e23-8fcb-4f69-f627-083315bfd7b6"
      },
      "source": [
        "!mkdir toronto\n",
        "!unzip toronto-emotional-speech-set-tess.zip -d toronto"
      ],
      "execution_count": null,
      "outputs": [
        {
          "output_type": "stream",
          "text": [
            "mkdir: cannot create directory ‘toronto’: File exists\n",
            "Archive:  toronto-emotional-speech-set-tess.zip\n",
            "replace toronto/TESS Toronto emotional speech set data/OAF_Fear/OAF_back_fear.wav? [y]es, [n]o, [A]ll, [N]one, [r]ename: "
          ],
          "name": "stdout"
        }
      ]
    },
    {
      "cell_type": "code",
      "metadata": {
        "id": "SugMvD4ug4k8",
        "colab_type": "code",
        "colab": {
          "base_uri": "https://localhost:8080/",
          "height": 218
        },
        "outputId": "2e8c776b-7ebf-4d87-b30d-d3c527cd3d87"
      },
      "source": [
        "!pip install librosa\n",
        "import librosa\n",
        "from librosa import display\n",
        "import os\n",
        "import pandas as pd\n",
        "import glob "
      ],
      "execution_count": null,
      "outputs": [
        {
          "output_type": "stream",
          "text": [
            "Requirement already satisfied: librosa in /usr/local/lib/python3.6/dist-packages (0.6.3)\n",
            "Requirement already satisfied: audioread>=2.0.0 in /usr/local/lib/python3.6/dist-packages (from librosa) (2.1.8)\n",
            "Requirement already satisfied: joblib>=0.12 in /usr/local/lib/python3.6/dist-packages (from librosa) (0.14.1)\n",
            "Requirement already satisfied: numba>=0.38.0 in /usr/local/lib/python3.6/dist-packages (from librosa) (0.48.0)\n",
            "Requirement already satisfied: scikit-learn!=0.19.0,>=0.14.0 in /usr/local/lib/python3.6/dist-packages (from librosa) (0.22.2.post1)\n",
            "Requirement already satisfied: scipy>=1.0.0 in /usr/local/lib/python3.6/dist-packages (from librosa) (1.4.1)\n",
            "Requirement already satisfied: resampy>=0.2.0 in /usr/local/lib/python3.6/dist-packages (from librosa) (0.2.2)\n",
            "Requirement already satisfied: six>=1.3 in /usr/local/lib/python3.6/dist-packages (from librosa) (1.12.0)\n",
            "Requirement already satisfied: numpy>=1.8.0 in /usr/local/lib/python3.6/dist-packages (from librosa) (1.18.3)\n",
            "Requirement already satisfied: decorator>=3.0.0 in /usr/local/lib/python3.6/dist-packages (from librosa) (4.4.2)\n",
            "Requirement already satisfied: llvmlite<0.32.0,>=0.31.0dev0 in /usr/local/lib/python3.6/dist-packages (from numba>=0.38.0->librosa) (0.31.0)\n",
            "Requirement already satisfied: setuptools in /usr/local/lib/python3.6/dist-packages (from numba>=0.38.0->librosa) (46.1.3)\n"
          ],
          "name": "stdout"
        }
      ]
    },
    {
      "cell_type": "code",
      "metadata": {
        "id": "CZSaxCB0iP8R",
        "colab_type": "code",
        "colab": {
          "base_uri": "https://localhost:8080/",
          "height": 252
        },
        "outputId": "e743cc03-1647-4627-ef08-ed34a0e86ba9"
      },
      "source": [
        "dir_list = os.listdir('/content/toronto/TESS Toronto emotional speech set data')\n",
        "dir_list.sort()\n",
        "dir_list"
      ],
      "execution_count": null,
      "outputs": [
        {
          "output_type": "execute_result",
          "data": {
            "text/plain": [
              "['OAF_Fear',\n",
              " 'OAF_Pleasant_surprise',\n",
              " 'OAF_Sad',\n",
              " 'OAF_angry',\n",
              " 'OAF_disgust',\n",
              " 'OAF_happy',\n",
              " 'OAF_neutral',\n",
              " 'YAF_angry',\n",
              " 'YAF_disgust',\n",
              " 'YAF_fear',\n",
              " 'YAF_happy',\n",
              " 'YAF_neutral',\n",
              " 'YAF_pleasant_surprised',\n",
              " 'YAF_sad']"
            ]
          },
          "metadata": {
            "tags": []
          },
          "execution_count": 11
        }
      ]
    },
    {
      "cell_type": "markdown",
      "metadata": {
        "id": "yIPJPM14pNIj",
        "colab_type": "text"
      },
      "source": [
        "# New Section"
      ]
    },
    {
      "cell_type": "code",
      "metadata": {
        "id": "ANqUmosdlrtl",
        "colab_type": "code",
        "colab": {
          "base_uri": "https://localhost:8080/",
          "height": 34
        },
        "outputId": "660041dc-f218-4bd8-bdcf-3680751f2d01"
      },
      "source": [
        "import time\n",
        "import numpy as np\n",
        "\n",
        "path = '/content/toronto/TESS Toronto emotional speech set data/'\n",
        "lst = []\n",
        "\n",
        "start_time = time.time()  \n",
        "\n",
        "for subdir, dirs, files in os.walk(path):\n",
        "  for file in files:\n",
        "      try:\n",
        "        #Load librosa array, obtain mfcss, store the file and the mcss information in a new array\n",
        "        X, sample_rate = librosa.load(os.path.join(subdir,file), res_type='kaiser_fast')\n",
        "        mfccs = np.mean(librosa.feature.mfcc(y=X, sr=sample_rate, n_mfcc=200).T,axis=0) \n",
        "        # The instruction below converts the labels (from 1 to 8) to a series from 0 to 7\n",
        "        # This is because our predictor needs to start from 0 otherwise it will try to predict also 0.\n",
        "        #file = int(file[7:8]) \n",
        "        arr = mfccs\n",
        "        lst.append(arr)\n",
        "      # If the file is not valid, skip it\n",
        "      except ValueError:\n",
        "        continue\n",
        "\n",
        "print(\"--- Data loaded. Loading time: %s seconds ---\" % (time.time() - start_time))"
      ],
      "execution_count": null,
      "outputs": [
        {
          "output_type": "stream",
          "text": [
            "--- Data loaded. Loading time: 372.0375256538391 seconds ---\n"
          ],
          "name": "stdout"
        }
      ]
    },
    {
      "cell_type": "code",
      "metadata": {
        "id": "cd9TyBgqvCKv",
        "colab_type": "code",
        "colab": {
          "base_uri": "https://localhost:8080/",
          "height": 185
        },
        "outputId": "24574b6b-aa5e-424b-d470-a1f86442a11f"
      },
      "source": [
        "print(lst)"
      ],
      "execution_count": null,
      "outputs": [
        {
          "output_type": "stream",
          "text": [
            "IOPub data rate exceeded.\n",
            "The notebook server will temporarily stop sending output\n",
            "to the client in order to avoid crashing it.\n",
            "To change this limit, set the config variable\n",
            "`--NotebookApp.iopub_data_rate_limit`.\n",
            "\n",
            "Current values:\n",
            "NotebookApp.iopub_data_rate_limit=1000000.0 (bytes/sec)\n",
            "NotebookApp.rate_limit_window=3.0 (secs)\n",
            "\n"
          ],
          "name": "stderr"
        }
      ]
    },
    {
      "cell_type": "markdown",
      "metadata": {
        "id": "5pKxCtAqAHMd",
        "colab_type": "text"
      },
      "source": [
        "Labelling the wav files and storing the numbers in list y :\n",
        "0 = angry, 1 = disgust, 2 = fear, 3 = happy, 4 = neutral, 5 = surprise, 6 = sad"
      ]
    },
    {
      "cell_type": "code",
      "metadata": {
        "id": "gf0uYPbrqxRt",
        "colab_type": "code",
        "colab": {
          "base_uri": "https://localhost:8080/",
          "height": 151
        },
        "outputId": "4eaa25b7-eb96-4a33-d3ea-fdc9470f2af3"
      },
      "source": [
        "TESS= '/content/toronto/TESS Toronto emotional speech set data/'\n",
        "path = []\n",
        "emotion = []\n",
        "y=[]\n",
        "\n",
        "for i in dir_list:\n",
        "    fname = os.listdir('/content/toronto/TESS Toronto emotional speech set data/' + i)\n",
        "    for f in fname:\n",
        "        if i == 'OAF_angry' or i == 'YAF_angry':\n",
        "            emotion.append('female_angry')\n",
        "            y.append(0)\n",
        "        elif i == 'OAF_disgust' or i == 'YAF_disgust':\n",
        "            emotion.append('female_disgust')\n",
        "            y.append(1)\n",
        "        elif i == 'OAF_Fear' or i == 'YAF_fear':\n",
        "            emotion.append('female_fear')\n",
        "            y.append(2)\n",
        "        elif i == 'OAF_happy' or i == 'YAF_happy':\n",
        "            emotion.append('female_happy')\n",
        "            y.append(3)\n",
        "        elif i == 'OAF_neutral' or i == 'YAF_neutral':\n",
        "            emotion.append('female_neutral')\n",
        "            y.append(4)                                \n",
        "        elif i == 'OAF_Pleasant_surprise' or i == 'YAF_pleasant_surprised':\n",
        "            emotion.append('female_surprise') \n",
        "            y.append(5)              \n",
        "        elif i == 'OAF_Sad' or i == 'YAF_sad':\n",
        "            emotion.append('female_sad')\n",
        "            y.append(6)\n",
        "        else:\n",
        "            emotion.append('Unknown')\n",
        "        path.append(TESS + i + \"/\" + f)\n",
        "\n",
        "TESS_df = pd.DataFrame(emotion, columns = ['labels'])\n",
        "TESS_df['source'] = 'TESS'\n",
        "TESS_df = pd.concat([TESS_df,pd.DataFrame(path, columns = ['path'])],axis=1)\n",
        "TESS_df.labels.value_counts()"
      ],
      "execution_count": null,
      "outputs": [
        {
          "output_type": "execute_result",
          "data": {
            "text/plain": [
              "female_happy       400\n",
              "female_sad         400\n",
              "female_neutral     400\n",
              "female_surprise    400\n",
              "female_angry       400\n",
              "female_disgust     400\n",
              "female_fear        400\n",
              "Name: labels, dtype: int64"
            ]
          },
          "metadata": {
            "tags": []
          },
          "execution_count": 14
        }
      ]
    },
    {
      "cell_type": "code",
      "metadata": {
        "id": "tWyJ33IoUcvm",
        "colab_type": "code",
        "colab": {
          "base_uri": "https://localhost:8080/",
          "height": 54
        },
        "outputId": "6d2c280f-31a3-470a-de4b-c3f550f93a99"
      },
      "source": [
        "print(y)"
      ],
      "execution_count": null,
      "outputs": [
        {
          "output_type": "stream",
          "text": [
            "[2, 2, 2, 2, 2, 2, 2, 2, 2, 2, 2, 2, 2, 2, 2, 2, 2, 2, 2, 2, 2, 2, 2, 2, 2, 2, 2, 2, 2, 2, 2, 2, 2, 2, 2, 2, 2, 2, 2, 2, 2, 2, 2, 2, 2, 2, 2, 2, 2, 2, 2, 2, 2, 2, 2, 2, 2, 2, 2, 2, 2, 2, 2, 2, 2, 2, 2, 2, 2, 2, 2, 2, 2, 2, 2, 2, 2, 2, 2, 2, 2, 2, 2, 2, 2, 2, 2, 2, 2, 2, 2, 2, 2, 2, 2, 2, 2, 2, 2, 2, 2, 2, 2, 2, 2, 2, 2, 2, 2, 2, 2, 2, 2, 2, 2, 2, 2, 2, 2, 2, 2, 2, 2, 2, 2, 2, 2, 2, 2, 2, 2, 2, 2, 2, 2, 2, 2, 2, 2, 2, 2, 2, 2, 2, 2, 2, 2, 2, 2, 2, 2, 2, 2, 2, 2, 2, 2, 2, 2, 2, 2, 2, 2, 2, 2, 2, 2, 2, 2, 2, 2, 2, 2, 2, 2, 2, 2, 2, 2, 2, 2, 2, 2, 2, 2, 2, 2, 2, 2, 2, 2, 2, 2, 2, 2, 2, 2, 2, 2, 2, 5, 5, 5, 5, 5, 5, 5, 5, 5, 5, 5, 5, 5, 5, 5, 5, 5, 5, 5, 5, 5, 5, 5, 5, 5, 5, 5, 5, 5, 5, 5, 5, 5, 5, 5, 5, 5, 5, 5, 5, 5, 5, 5, 5, 5, 5, 5, 5, 5, 5, 5, 5, 5, 5, 5, 5, 5, 5, 5, 5, 5, 5, 5, 5, 5, 5, 5, 5, 5, 5, 5, 5, 5, 5, 5, 5, 5, 5, 5, 5, 5, 5, 5, 5, 5, 5, 5, 5, 5, 5, 5, 5, 5, 5, 5, 5, 5, 5, 5, 5, 5, 5, 5, 5, 5, 5, 5, 5, 5, 5, 5, 5, 5, 5, 5, 5, 5, 5, 5, 5, 5, 5, 5, 5, 5, 5, 5, 5, 5, 5, 5, 5, 5, 5, 5, 5, 5, 5, 5, 5, 5, 5, 5, 5, 5, 5, 5, 5, 5, 5, 5, 5, 5, 5, 5, 5, 5, 5, 5, 5, 5, 5, 5, 5, 5, 5, 5, 5, 5, 5, 5, 5, 5, 5, 5, 5, 5, 5, 5, 5, 5, 5, 5, 5, 5, 5, 5, 5, 5, 5, 5, 5, 5, 5, 5, 5, 5, 5, 5, 5, 6, 6, 6, 6, 6, 6, 6, 6, 6, 6, 6, 6, 6, 6, 6, 6, 6, 6, 6, 6, 6, 6, 6, 6, 6, 6, 6, 6, 6, 6, 6, 6, 6, 6, 6, 6, 6, 6, 6, 6, 6, 6, 6, 6, 6, 6, 6, 6, 6, 6, 6, 6, 6, 6, 6, 6, 6, 6, 6, 6, 6, 6, 6, 6, 6, 6, 6, 6, 6, 6, 6, 6, 6, 6, 6, 6, 6, 6, 6, 6, 6, 6, 6, 6, 6, 6, 6, 6, 6, 6, 6, 6, 6, 6, 6, 6, 6, 6, 6, 6, 6, 6, 6, 6, 6, 6, 6, 6, 6, 6, 6, 6, 6, 6, 6, 6, 6, 6, 6, 6, 6, 6, 6, 6, 6, 6, 6, 6, 6, 6, 6, 6, 6, 6, 6, 6, 6, 6, 6, 6, 6, 6, 6, 6, 6, 6, 6, 6, 6, 6, 6, 6, 6, 6, 6, 6, 6, 6, 6, 6, 6, 6, 6, 6, 6, 6, 6, 6, 6, 6, 6, 6, 6, 6, 6, 6, 6, 6, 6, 6, 6, 6, 6, 6, 6, 6, 6, 6, 6, 6, 6, 6, 6, 6, 6, 6, 6, 6, 6, 6, 0, 0, 0, 0, 0, 0, 0, 0, 0, 0, 0, 0, 0, 0, 0, 0, 0, 0, 0, 0, 0, 0, 0, 0, 0, 0, 0, 0, 0, 0, 0, 0, 0, 0, 0, 0, 0, 0, 0, 0, 0, 0, 0, 0, 0, 0, 0, 0, 0, 0, 0, 0, 0, 0, 0, 0, 0, 0, 0, 0, 0, 0, 0, 0, 0, 0, 0, 0, 0, 0, 0, 0, 0, 0, 0, 0, 0, 0, 0, 0, 0, 0, 0, 0, 0, 0, 0, 0, 0, 0, 0, 0, 0, 0, 0, 0, 0, 0, 0, 0, 0, 0, 0, 0, 0, 0, 0, 0, 0, 0, 0, 0, 0, 0, 0, 0, 0, 0, 0, 0, 0, 0, 0, 0, 0, 0, 0, 0, 0, 0, 0, 0, 0, 0, 0, 0, 0, 0, 0, 0, 0, 0, 0, 0, 0, 0, 0, 0, 0, 0, 0, 0, 0, 0, 0, 0, 0, 0, 0, 0, 0, 0, 0, 0, 0, 0, 0, 0, 0, 0, 0, 0, 0, 0, 0, 0, 0, 0, 0, 0, 0, 0, 0, 0, 0, 0, 0, 0, 0, 0, 0, 0, 0, 0, 0, 0, 0, 0, 0, 0, 1, 1, 1, 1, 1, 1, 1, 1, 1, 1, 1, 1, 1, 1, 1, 1, 1, 1, 1, 1, 1, 1, 1, 1, 1, 1, 1, 1, 1, 1, 1, 1, 1, 1, 1, 1, 1, 1, 1, 1, 1, 1, 1, 1, 1, 1, 1, 1, 1, 1, 1, 1, 1, 1, 1, 1, 1, 1, 1, 1, 1, 1, 1, 1, 1, 1, 1, 1, 1, 1, 1, 1, 1, 1, 1, 1, 1, 1, 1, 1, 1, 1, 1, 1, 1, 1, 1, 1, 1, 1, 1, 1, 1, 1, 1, 1, 1, 1, 1, 1, 1, 1, 1, 1, 1, 1, 1, 1, 1, 1, 1, 1, 1, 1, 1, 1, 1, 1, 1, 1, 1, 1, 1, 1, 1, 1, 1, 1, 1, 1, 1, 1, 1, 1, 1, 1, 1, 1, 1, 1, 1, 1, 1, 1, 1, 1, 1, 1, 1, 1, 1, 1, 1, 1, 1, 1, 1, 1, 1, 1, 1, 1, 1, 1, 1, 1, 1, 1, 1, 1, 1, 1, 1, 1, 1, 1, 1, 1, 1, 1, 1, 1, 1, 1, 1, 1, 1, 1, 1, 1, 1, 1, 1, 1, 1, 1, 1, 1, 1, 1, 3, 3, 3, 3, 3, 3, 3, 3, 3, 3, 3, 3, 3, 3, 3, 3, 3, 3, 3, 3, 3, 3, 3, 3, 3, 3, 3, 3, 3, 3, 3, 3, 3, 3, 3, 3, 3, 3, 3, 3, 3, 3, 3, 3, 3, 3, 3, 3, 3, 3, 3, 3, 3, 3, 3, 3, 3, 3, 3, 3, 3, 3, 3, 3, 3, 3, 3, 3, 3, 3, 3, 3, 3, 3, 3, 3, 3, 3, 3, 3, 3, 3, 3, 3, 3, 3, 3, 3, 3, 3, 3, 3, 3, 3, 3, 3, 3, 3, 3, 3, 3, 3, 3, 3, 3, 3, 3, 3, 3, 3, 3, 3, 3, 3, 3, 3, 3, 3, 3, 3, 3, 3, 3, 3, 3, 3, 3, 3, 3, 3, 3, 3, 3, 3, 3, 3, 3, 3, 3, 3, 3, 3, 3, 3, 3, 3, 3, 3, 3, 3, 3, 3, 3, 3, 3, 3, 3, 3, 3, 3, 3, 3, 3, 3, 3, 3, 3, 3, 3, 3, 3, 3, 3, 3, 3, 3, 3, 3, 3, 3, 3, 3, 3, 3, 3, 3, 3, 3, 3, 3, 3, 3, 3, 3, 3, 3, 3, 3, 3, 3, 4, 4, 4, 4, 4, 4, 4, 4, 4, 4, 4, 4, 4, 4, 4, 4, 4, 4, 4, 4, 4, 4, 4, 4, 4, 4, 4, 4, 4, 4, 4, 4, 4, 4, 4, 4, 4, 4, 4, 4, 4, 4, 4, 4, 4, 4, 4, 4, 4, 4, 4, 4, 4, 4, 4, 4, 4, 4, 4, 4, 4, 4, 4, 4, 4, 4, 4, 4, 4, 4, 4, 4, 4, 4, 4, 4, 4, 4, 4, 4, 4, 4, 4, 4, 4, 4, 4, 4, 4, 4, 4, 4, 4, 4, 4, 4, 4, 4, 4, 4, 4, 4, 4, 4, 4, 4, 4, 4, 4, 4, 4, 4, 4, 4, 4, 4, 4, 4, 4, 4, 4, 4, 4, 4, 4, 4, 4, 4, 4, 4, 4, 4, 4, 4, 4, 4, 4, 4, 4, 4, 4, 4, 4, 4, 4, 4, 4, 4, 4, 4, 4, 4, 4, 4, 4, 4, 4, 4, 4, 4, 4, 4, 4, 4, 4, 4, 4, 4, 4, 4, 4, 4, 4, 4, 4, 4, 4, 4, 4, 4, 4, 4, 4, 4, 4, 4, 4, 4, 4, 4, 4, 4, 4, 4, 4, 4, 4, 4, 4, 4, 0, 0, 0, 0, 0, 0, 0, 0, 0, 0, 0, 0, 0, 0, 0, 0, 0, 0, 0, 0, 0, 0, 0, 0, 0, 0, 0, 0, 0, 0, 0, 0, 0, 0, 0, 0, 0, 0, 0, 0, 0, 0, 0, 0, 0, 0, 0, 0, 0, 0, 0, 0, 0, 0, 0, 0, 0, 0, 0, 0, 0, 0, 0, 0, 0, 0, 0, 0, 0, 0, 0, 0, 0, 0, 0, 0, 0, 0, 0, 0, 0, 0, 0, 0, 0, 0, 0, 0, 0, 0, 0, 0, 0, 0, 0, 0, 0, 0, 0, 0, 0, 0, 0, 0, 0, 0, 0, 0, 0, 0, 0, 0, 0, 0, 0, 0, 0, 0, 0, 0, 0, 0, 0, 0, 0, 0, 0, 0, 0, 0, 0, 0, 0, 0, 0, 0, 0, 0, 0, 0, 0, 0, 0, 0, 0, 0, 0, 0, 0, 0, 0, 0, 0, 0, 0, 0, 0, 0, 0, 0, 0, 0, 0, 0, 0, 0, 0, 0, 0, 0, 0, 0, 0, 0, 0, 0, 0, 0, 0, 0, 0, 0, 0, 0, 0, 0, 0, 0, 0, 0, 0, 0, 0, 0, 0, 0, 0, 0, 0, 0, 1, 1, 1, 1, 1, 1, 1, 1, 1, 1, 1, 1, 1, 1, 1, 1, 1, 1, 1, 1, 1, 1, 1, 1, 1, 1, 1, 1, 1, 1, 1, 1, 1, 1, 1, 1, 1, 1, 1, 1, 1, 1, 1, 1, 1, 1, 1, 1, 1, 1, 1, 1, 1, 1, 1, 1, 1, 1, 1, 1, 1, 1, 1, 1, 1, 1, 1, 1, 1, 1, 1, 1, 1, 1, 1, 1, 1, 1, 1, 1, 1, 1, 1, 1, 1, 1, 1, 1, 1, 1, 1, 1, 1, 1, 1, 1, 1, 1, 1, 1, 1, 1, 1, 1, 1, 1, 1, 1, 1, 1, 1, 1, 1, 1, 1, 1, 1, 1, 1, 1, 1, 1, 1, 1, 1, 1, 1, 1, 1, 1, 1, 1, 1, 1, 1, 1, 1, 1, 1, 1, 1, 1, 1, 1, 1, 1, 1, 1, 1, 1, 1, 1, 1, 1, 1, 1, 1, 1, 1, 1, 1, 1, 1, 1, 1, 1, 1, 1, 1, 1, 1, 1, 1, 1, 1, 1, 1, 1, 1, 1, 1, 1, 1, 1, 1, 1, 1, 1, 1, 1, 1, 1, 1, 1, 1, 1, 1, 1, 1, 1, 2, 2, 2, 2, 2, 2, 2, 2, 2, 2, 2, 2, 2, 2, 2, 2, 2, 2, 2, 2, 2, 2, 2, 2, 2, 2, 2, 2, 2, 2, 2, 2, 2, 2, 2, 2, 2, 2, 2, 2, 2, 2, 2, 2, 2, 2, 2, 2, 2, 2, 2, 2, 2, 2, 2, 2, 2, 2, 2, 2, 2, 2, 2, 2, 2, 2, 2, 2, 2, 2, 2, 2, 2, 2, 2, 2, 2, 2, 2, 2, 2, 2, 2, 2, 2, 2, 2, 2, 2, 2, 2, 2, 2, 2, 2, 2, 2, 2, 2, 2, 2, 2, 2, 2, 2, 2, 2, 2, 2, 2, 2, 2, 2, 2, 2, 2, 2, 2, 2, 2, 2, 2, 2, 2, 2, 2, 2, 2, 2, 2, 2, 2, 2, 2, 2, 2, 2, 2, 2, 2, 2, 2, 2, 2, 2, 2, 2, 2, 2, 2, 2, 2, 2, 2, 2, 2, 2, 2, 2, 2, 2, 2, 2, 2, 2, 2, 2, 2, 2, 2, 2, 2, 2, 2, 2, 2, 2, 2, 2, 2, 2, 2, 2, 2, 2, 2, 2, 2, 2, 2, 2, 2, 2, 2, 2, 2, 2, 2, 2, 2, 3, 3, 3, 3, 3, 3, 3, 3, 3, 3, 3, 3, 3, 3, 3, 3, 3, 3, 3, 3, 3, 3, 3, 3, 3, 3, 3, 3, 3, 3, 3, 3, 3, 3, 3, 3, 3, 3, 3, 3, 3, 3, 3, 3, 3, 3, 3, 3, 3, 3, 3, 3, 3, 3, 3, 3, 3, 3, 3, 3, 3, 3, 3, 3, 3, 3, 3, 3, 3, 3, 3, 3, 3, 3, 3, 3, 3, 3, 3, 3, 3, 3, 3, 3, 3, 3, 3, 3, 3, 3, 3, 3, 3, 3, 3, 3, 3, 3, 3, 3, 3, 3, 3, 3, 3, 3, 3, 3, 3, 3, 3, 3, 3, 3, 3, 3, 3, 3, 3, 3, 3, 3, 3, 3, 3, 3, 3, 3, 3, 3, 3, 3, 3, 3, 3, 3, 3, 3, 3, 3, 3, 3, 3, 3, 3, 3, 3, 3, 3, 3, 3, 3, 3, 3, 3, 3, 3, 3, 3, 3, 3, 3, 3, 3, 3, 3, 3, 3, 3, 3, 3, 3, 3, 3, 3, 3, 3, 3, 3, 3, 3, 3, 3, 3, 3, 3, 3, 3, 3, 3, 3, 3, 3, 3, 3, 3, 3, 3, 3, 3, 4, 4, 4, 4, 4, 4, 4, 4, 4, 4, 4, 4, 4, 4, 4, 4, 4, 4, 4, 4, 4, 4, 4, 4, 4, 4, 4, 4, 4, 4, 4, 4, 4, 4, 4, 4, 4, 4, 4, 4, 4, 4, 4, 4, 4, 4, 4, 4, 4, 4, 4, 4, 4, 4, 4, 4, 4, 4, 4, 4, 4, 4, 4, 4, 4, 4, 4, 4, 4, 4, 4, 4, 4, 4, 4, 4, 4, 4, 4, 4, 4, 4, 4, 4, 4, 4, 4, 4, 4, 4, 4, 4, 4, 4, 4, 4, 4, 4, 4, 4, 4, 4, 4, 4, 4, 4, 4, 4, 4, 4, 4, 4, 4, 4, 4, 4, 4, 4, 4, 4, 4, 4, 4, 4, 4, 4, 4, 4, 4, 4, 4, 4, 4, 4, 4, 4, 4, 4, 4, 4, 4, 4, 4, 4, 4, 4, 4, 4, 4, 4, 4, 4, 4, 4, 4, 4, 4, 4, 4, 4, 4, 4, 4, 4, 4, 4, 4, 4, 4, 4, 4, 4, 4, 4, 4, 4, 4, 4, 4, 4, 4, 4, 4, 4, 4, 4, 4, 4, 4, 4, 4, 4, 4, 4, 4, 4, 4, 4, 4, 4, 5, 5, 5, 5, 5, 5, 5, 5, 5, 5, 5, 5, 5, 5, 5, 5, 5, 5, 5, 5, 5, 5, 5, 5, 5, 5, 5, 5, 5, 5, 5, 5, 5, 5, 5, 5, 5, 5, 5, 5, 5, 5, 5, 5, 5, 5, 5, 5, 5, 5, 5, 5, 5, 5, 5, 5, 5, 5, 5, 5, 5, 5, 5, 5, 5, 5, 5, 5, 5, 5, 5, 5, 5, 5, 5, 5, 5, 5, 5, 5, 5, 5, 5, 5, 5, 5, 5, 5, 5, 5, 5, 5, 5, 5, 5, 5, 5, 5, 5, 5, 5, 5, 5, 5, 5, 5, 5, 5, 5, 5, 5, 5, 5, 5, 5, 5, 5, 5, 5, 5, 5, 5, 5, 5, 5, 5, 5, 5, 5, 5, 5, 5, 5, 5, 5, 5, 5, 5, 5, 5, 5, 5, 5, 5, 5, 5, 5, 5, 5, 5, 5, 5, 5, 5, 5, 5, 5, 5, 5, 5, 5, 5, 5, 5, 5, 5, 5, 5, 5, 5, 5, 5, 5, 5, 5, 5, 5, 5, 5, 5, 5, 5, 5, 5, 5, 5, 5, 5, 5, 5, 5, 5, 5, 5, 5, 5, 5, 5, 5, 5, 6, 6, 6, 6, 6, 6, 6, 6, 6, 6, 6, 6, 6, 6, 6, 6, 6, 6, 6, 6, 6, 6, 6, 6, 6, 6, 6, 6, 6, 6, 6, 6, 6, 6, 6, 6, 6, 6, 6, 6, 6, 6, 6, 6, 6, 6, 6, 6, 6, 6, 6, 6, 6, 6, 6, 6, 6, 6, 6, 6, 6, 6, 6, 6, 6, 6, 6, 6, 6, 6, 6, 6, 6, 6, 6, 6, 6, 6, 6, 6, 6, 6, 6, 6, 6, 6, 6, 6, 6, 6, 6, 6, 6, 6, 6, 6, 6, 6, 6, 6, 6, 6, 6, 6, 6, 6, 6, 6, 6, 6, 6, 6, 6, 6, 6, 6, 6, 6, 6, 6, 6, 6, 6, 6, 6, 6, 6, 6, 6, 6, 6, 6, 6, 6, 6, 6, 6, 6, 6, 6, 6, 6, 6, 6, 6, 6, 6, 6, 6, 6, 6, 6, 6, 6, 6, 6, 6, 6, 6, 6, 6, 6, 6, 6, 6, 6, 6, 6, 6, 6, 6, 6, 6, 6, 6, 6, 6, 6, 6, 6, 6, 6, 6, 6, 6, 6, 6, 6, 6, 6, 6, 6, 6, 6, 6, 6, 6, 6, 6, 6]\n"
          ],
          "name": "stdout"
        }
      ]
    },
    {
      "cell_type": "code",
      "metadata": {
        "id": "ppXDGq3TUkFy",
        "colab_type": "code",
        "colab": {
          "base_uri": "https://localhost:8080/",
          "height": 34
        },
        "outputId": "7a921b6c-c5b9-4e6d-f3de-0345d4860c82"
      },
      "source": [
        "len(y)"
      ],
      "execution_count": null,
      "outputs": [
        {
          "output_type": "execute_result",
          "data": {
            "text/plain": [
              "2800"
            ]
          },
          "metadata": {
            "tags": []
          },
          "execution_count": 16
        }
      ]
    },
    {
      "cell_type": "code",
      "metadata": {
        "id": "O20VMaX0wmhP",
        "colab_type": "code",
        "colab": {
          "base_uri": "https://localhost:8080/",
          "height": 34
        },
        "outputId": "61cfb328-48f9-4d4b-899c-08bae9f48648"
      },
      "source": [
        "len(lst)"
      ],
      "execution_count": null,
      "outputs": [
        {
          "output_type": "execute_result",
          "data": {
            "text/plain": [
              "2800"
            ]
          },
          "metadata": {
            "tags": []
          },
          "execution_count": 17
        }
      ]
    },
    {
      "cell_type": "code",
      "metadata": {
        "id": "piS_7nBTNxS0",
        "colab_type": "code",
        "colab": {}
      },
      "source": [
        "lst =np.asarray(lst)\n",
        "y=np.asarray(y)"
      ],
      "execution_count": null,
      "outputs": []
    },
    {
      "cell_type": "code",
      "metadata": {
        "id": "amI06_Kx8-JW",
        "colab_type": "code",
        "colab": {}
      },
      "source": [
        "from sklearn.model_selection import train_test_split\n",
        "X_train, X_test, y_train, y_test = train_test_split(lst, y, test_size=0.33, random_state=42)"
      ],
      "execution_count": null,
      "outputs": []
    },
    {
      "cell_type": "code",
      "metadata": {
        "id": "0rLeoGU09v1t",
        "colab_type": "code",
        "colab": {
          "base_uri": "https://localhost:8080/",
          "height": 34
        },
        "outputId": "47b6922e-3140-432f-d510-a030d04c0dec"
      },
      "source": [
        "X_train.shape, X_test.shape, y_train.shape, y_test.shape"
      ],
      "execution_count": null,
      "outputs": [
        {
          "output_type": "execute_result",
          "data": {
            "text/plain": [
              "((1876, 128), (924, 128), (1876,), (924,))"
            ]
          },
          "metadata": {
            "tags": []
          },
          "execution_count": 20
        }
      ]
    },
    {
      "cell_type": "code",
      "metadata": {
        "id": "FKJL_IvjBGUU",
        "colab_type": "code",
        "colab": {
          "base_uri": "https://localhost:8080/",
          "height": 84
        },
        "outputId": "120d2fbb-2585-4009-c6ee-6dd783faa954"
      },
      "source": [
        "X_train.astype, X_test.astype, y_train.astype, y_test.astype"
      ],
      "execution_count": null,
      "outputs": [
        {
          "output_type": "execute_result",
          "data": {
            "text/plain": [
              "(<function ndarray.astype>,\n",
              " <function ndarray.astype>,\n",
              " <function ndarray.astype>,\n",
              " <function ndarray.astype>)"
            ]
          },
          "metadata": {
            "tags": []
          },
          "execution_count": 104
        }
      ]
    },
    {
      "cell_type": "markdown",
      "metadata": {
        "id": "q16X3IGZ_7jc",
        "colab_type": "text"
      },
      "source": [
        "DESICION TREE CLASSIFIER"
      ]
    },
    {
      "cell_type": "code",
      "metadata": {
        "id": "1hEAIAG0_DQ2",
        "colab_type": "code",
        "colab": {
          "base_uri": "https://localhost:8080/",
          "height": 252
        },
        "outputId": "3dc441bc-1e11-470d-dbc4-3156352d610d"
      },
      "source": [
        "from sklearn.tree import DecisionTreeClassifier\n",
        "from sklearn.metrics import accuracy_score\n",
        "\n",
        "dtree = DecisionTreeClassifier()\n",
        "\n",
        "dtree.fit(X_train, y_train)\n",
        "predictions = dtree.predict(X_test)\n",
        "from sklearn.metrics import classification_report,confusion_matrix\n",
        "print(classification_report(y_test,predictions))"
      ],
      "execution_count": null,
      "outputs": [
        {
          "output_type": "stream",
          "text": [
            "              precision    recall  f1-score   support\n",
            "\n",
            "           0       0.92      0.91      0.91       128\n",
            "           1       0.94      0.91      0.93       125\n",
            "           2       0.93      0.90      0.91       130\n",
            "           3       0.98      0.91      0.94       137\n",
            "           4       0.86      0.93      0.89       139\n",
            "           5       0.83      0.84      0.84       135\n",
            "           6       0.85      0.89      0.87       130\n",
            "\n",
            "    accuracy                           0.90       924\n",
            "   macro avg       0.90      0.90      0.90       924\n",
            "weighted avg       0.90      0.90      0.90       924\n",
            "\n"
          ],
          "name": "stdout"
        }
      ]
    },
    {
      "cell_type": "markdown",
      "metadata": {
        "id": "_6gzlr7B_4o3",
        "colab_type": "text"
      },
      "source": [
        "SVM MODEL"
      ]
    },
    {
      "cell_type": "code",
      "metadata": {
        "id": "T7zCeEXhV2hF",
        "colab_type": "code",
        "colab": {
          "base_uri": "https://localhost:8080/",
          "height": 34
        },
        "outputId": "30508ec1-83d8-43fd-85d4-752d12b4c66e"
      },
      "source": [
        "# Building the SVM model \n",
        "svmclf = SVC() \n",
        "svmclf.fit(X_train, y_train) \n",
        "  \n",
        "# Storing the predictions of the non-linear model \n",
        "y_pred_svmclf = svmclf.predict(X_test) \n",
        "  \n",
        "# Evaluating the performance of the non-linear model \n",
        "print('Accuracy : '+str(accuracy_score(y_test, y_pred_svmclf))) "
      ],
      "execution_count": null,
      "outputs": [
        {
          "output_type": "stream",
          "text": [
            "Accuracy : 0.8614718614718615\n"
          ],
          "name": "stdout"
        }
      ]
    },
    {
      "cell_type": "markdown",
      "metadata": {
        "id": "iGXEUreF2m_K",
        "colab_type": "text"
      },
      "source": [
        "CNN"
      ]
    },
    {
      "cell_type": "code",
      "metadata": {
        "id": "_HY_RGHg2llz",
        "colab_type": "code",
        "colab": {
          "base_uri": "https://localhost:8080/",
          "height": 34
        },
        "outputId": "88028523-d6df-4bc2-d3b4-38c0baf5fde2"
      },
      "source": [
        "x_traincnn = np.expand_dims(X_train, axis=2)\n",
        "x_testcnn = np.expand_dims(X_test, axis=2)\n",
        "x_traincnn.shape, x_testcnn.shape, y_train.shape, y_test.shape"
      ],
      "execution_count": null,
      "outputs": [
        {
          "output_type": "execute_result",
          "data": {
            "text/plain": [
              "((1876, 128, 1), (924, 128, 1), (1876,), (924,))"
            ]
          },
          "metadata": {
            "tags": []
          },
          "execution_count": 69
        }
      ]
    },
    {
      "cell_type": "code",
      "metadata": {
        "id": "unTT4aPe2jpp",
        "colab_type": "code",
        "colab": {
          "base_uri": "https://localhost:8080/",
          "height": 370
        },
        "outputId": "4f7a6c7f-0b2e-4265-d0f1-039ed2d49712"
      },
      "source": [
        "import keras\n",
        "import numpy as np\n",
        "import matplotlib.pyplot as plt\n",
        "import tensorflow as tf\n",
        "from keras.preprocessing import sequence\n",
        "from keras.models import Sequential\n",
        "from keras.layers import Dense, Embedding\n",
        "from keras.utils import to_categorical\n",
        "from keras.layers import Input, Flatten, Dropout, Activation\n",
        "from keras.layers import Conv1D, MaxPooling1D\n",
        "from keras.models import Model\n",
        "from keras.callbacks import ModelCheckpoint\n",
        "\n",
        "model = Sequential()\n",
        "\n",
        "model.add(Conv1D(32, 5,padding='same',\n",
        "                 input_shape=(128,1)))\n",
        "#model.add(Conv1D(64, 5,padding='same', activation='relu'))\n",
        "#model.add(Activation('relu'))\n",
        "model.add(MaxPooling1D(pool_size=(8)))\n",
        "model.add(Dropout(0.25))\n",
        "model.add(Flatten())\n",
        "model.add(Dense(128, activation='relu'))\n",
        "model.add(Dropout(0.5))\n",
        "model.add(Dense(7, activation='softmax'))\n",
        "opt = keras.optimizers.rmsprop(lr=0.00005, rho=0.9, epsilon=None, decay=0.0)\n",
        "model.summary()"
      ],
      "execution_count": null,
      "outputs": [
        {
          "output_type": "stream",
          "text": [
            "_________________________________________________________________\n",
            "Layer (type)                 Output Shape              Param #   \n",
            "=================================================================\n",
            "conv1d_25 (Conv1D)           (None, 128, 32)           192       \n",
            "_________________________________________________________________\n",
            "max_pooling1d_15 (MaxPooling (None, 16, 32)            0         \n",
            "_________________________________________________________________\n",
            "dropout_27 (Dropout)         (None, 16, 32)            0         \n",
            "_________________________________________________________________\n",
            "flatten_15 (Flatten)         (None, 512)               0         \n",
            "_________________________________________________________________\n",
            "dense_78 (Dense)             (None, 128)               65664     \n",
            "_________________________________________________________________\n",
            "dropout_28 (Dropout)         (None, 128)               0         \n",
            "_________________________________________________________________\n",
            "dense_79 (Dense)             (None, 7)                 903       \n",
            "=================================================================\n",
            "Total params: 66,759\n",
            "Trainable params: 66,759\n",
            "Non-trainable params: 0\n",
            "_________________________________________________________________\n"
          ],
          "name": "stdout"
        }
      ]
    },
    {
      "cell_type": "code",
      "metadata": {
        "id": "jLt5Iz9y3FTr",
        "colab_type": "code",
        "colab": {
          "base_uri": "https://localhost:8080/",
          "height": 706
        },
        "outputId": "378f7d29-7331-41c2-b98d-f211c2c7451c"
      },
      "source": [
        "model.compile(loss='sparse_categorical_crossentropy',\n",
        "              optimizer=keras.optimizers.Adadelta(),\n",
        "              metrics=['accuracy'])\n",
        "cnnhistory=model.fit(x_traincnn, y_train, batch_size=128, epochs=20, validation_data=(x_testcnn, y_test))"
      ],
      "execution_count": null,
      "outputs": [
        {
          "output_type": "stream",
          "text": [
            "Train on 1876 samples, validate on 924 samples\n",
            "Epoch 1/20\n",
            "1876/1876 [==============================] - 3s 2ms/step - loss: 11.9277 - acc: 0.1599 - val_loss: 8.0467 - val_acc: 0.2424\n",
            "Epoch 2/20\n",
            "1876/1876 [==============================] - 0s 125us/step - loss: 10.4389 - acc: 0.2068 - val_loss: 5.6996 - val_acc: 0.2327\n",
            "Epoch 3/20\n",
            "1876/1876 [==============================] - 0s 131us/step - loss: 6.9491 - acc: 0.2767 - val_loss: 1.6194 - val_acc: 0.4037\n",
            "Epoch 4/20\n",
            "1876/1876 [==============================] - 0s 125us/step - loss: 2.7833 - acc: 0.3412 - val_loss: 1.7265 - val_acc: 0.3907\n",
            "Epoch 5/20\n",
            "1876/1876 [==============================] - 0s 127us/step - loss: 1.8117 - acc: 0.3662 - val_loss: 1.5672 - val_acc: 0.5162\n",
            "Epoch 6/20\n",
            "1876/1876 [==============================] - 0s 120us/step - loss: 1.6563 - acc: 0.3886 - val_loss: 1.3054 - val_acc: 0.5931\n",
            "Epoch 7/20\n",
            "1876/1876 [==============================] - 0s 130us/step - loss: 1.5105 - acc: 0.4232 - val_loss: 1.1056 - val_acc: 0.6429\n",
            "Epoch 8/20\n",
            "1876/1876 [==============================] - 0s 120us/step - loss: 1.3640 - acc: 0.4701 - val_loss: 0.8806 - val_acc: 0.7911\n",
            "Epoch 9/20\n",
            "1876/1876 [==============================] - 0s 124us/step - loss: 1.2662 - acc: 0.4963 - val_loss: 0.8580 - val_acc: 0.7641\n",
            "Epoch 10/20\n",
            "1876/1876 [==============================] - 0s 126us/step - loss: 1.1336 - acc: 0.5384 - val_loss: 0.6015 - val_acc: 0.8409\n",
            "Epoch 11/20\n",
            "1876/1876 [==============================] - 0s 128us/step - loss: 1.0580 - acc: 0.5736 - val_loss: 0.5613 - val_acc: 0.8420\n",
            "Epoch 12/20\n",
            "1876/1876 [==============================] - 0s 125us/step - loss: 0.9351 - acc: 0.6365 - val_loss: 0.4558 - val_acc: 0.9145\n",
            "Epoch 13/20\n",
            "1876/1876 [==============================] - 0s 120us/step - loss: 0.8690 - acc: 0.6546 - val_loss: 0.4244 - val_acc: 0.8972\n",
            "Epoch 14/20\n",
            "1876/1876 [==============================] - 0s 122us/step - loss: 0.8236 - acc: 0.6807 - val_loss: 0.3932 - val_acc: 0.8939\n",
            "Epoch 15/20\n",
            "1876/1876 [==============================] - 0s 122us/step - loss: 0.7416 - acc: 0.6935 - val_loss: 0.3491 - val_acc: 0.9188\n",
            "Epoch 16/20\n",
            "1876/1876 [==============================] - 0s 121us/step - loss: 0.6604 - acc: 0.7377 - val_loss: 0.3211 - val_acc: 0.9188\n",
            "Epoch 17/20\n",
            "1876/1876 [==============================] - 0s 126us/step - loss: 0.6551 - acc: 0.7425 - val_loss: 0.3076 - val_acc: 0.9513\n",
            "Epoch 18/20\n",
            "1876/1876 [==============================] - 0s 120us/step - loss: 0.6307 - acc: 0.7516 - val_loss: 0.3292 - val_acc: 0.8961\n",
            "Epoch 19/20\n",
            "1876/1876 [==============================] - 0s 124us/step - loss: 0.5742 - acc: 0.7687 - val_loss: 0.2621 - val_acc: 0.9589\n",
            "Epoch 20/20\n",
            "1876/1876 [==============================] - 0s 125us/step - loss: 0.5647 - acc: 0.7729 - val_loss: 0.2521 - val_acc: 0.9372\n"
          ],
          "name": "stdout"
        }
      ]
    },
    {
      "cell_type": "code",
      "metadata": {
        "id": "tPXlUTHp3sYv",
        "colab_type": "code",
        "colab": {
          "base_uri": "https://localhost:8080/",
          "height": 50
        },
        "outputId": "b620dd93-6c52-4f3a-8885-ea2e3bd0f78b"
      },
      "source": [
        "score = model.evaluate(x_testcnn, y_test, verbose=0)\n",
        "print('Test loss:', score[0])\n",
        "print('Test accuracy:', score[1])"
      ],
      "execution_count": null,
      "outputs": [
        {
          "output_type": "stream",
          "text": [
            "Test loss: 0.25205654486433254\n",
            "Test accuracy: 0.9372294377454947\n"
          ],
          "name": "stdout"
        }
      ]
    },
    {
      "cell_type": "code",
      "metadata": {
        "id": "t3X5YE4a31v9",
        "colab_type": "code",
        "colab": {
          "base_uri": "https://localhost:8080/",
          "height": 722
        },
        "outputId": "134a0c8c-726a-4e06-d668-aedef2771f44"
      },
      "source": [
        "predictions = model.predict_classes(x_testcnn)\n",
        "predictions\n",
        "y_test\n",
        "new_Ytest = y_test.astype(int)\n",
        "new_Ytest"
      ],
      "execution_count": null,
      "outputs": [
        {
          "output_type": "execute_result",
          "data": {
            "text/plain": [
              "array([3, 0, 3, 3, 2, 1, 4, 0, 4, 3, 5, 5, 3, 3, 3, 6, 0, 6, 5, 3, 4, 0,\n",
              "       6, 4, 0, 6, 5, 1, 0, 4, 1, 6, 0, 0, 3, 6, 5, 1, 0, 6, 2, 0, 3, 5,\n",
              "       6, 6, 0, 4, 4, 0, 1, 1, 1, 6, 3, 3, 2, 4, 2, 1, 3, 4, 6, 4, 5, 4,\n",
              "       0, 1, 4, 3, 3, 6, 1, 5, 0, 6, 4, 6, 0, 2, 0, 2, 0, 4, 6, 1, 1, 5,\n",
              "       6, 6, 5, 0, 3, 4, 0, 6, 1, 3, 3, 3, 3, 4, 5, 5, 4, 0, 4, 2, 0, 6,\n",
              "       1, 1, 4, 2, 0, 6, 0, 2, 3, 6, 3, 6, 4, 0, 3, 4, 2, 4, 0, 5, 3, 6,\n",
              "       5, 5, 5, 2, 3, 2, 3, 1, 2, 3, 4, 4, 2, 4, 4, 2, 1, 3, 6, 3, 4, 4,\n",
              "       5, 5, 0, 0, 3, 1, 1, 6, 4, 5, 1, 1, 1, 0, 2, 5, 0, 1, 1, 6, 1, 3,\n",
              "       4, 2, 5, 2, 1, 3, 2, 3, 4, 6, 6, 1, 4, 5, 6, 0, 5, 1, 6, 5, 4, 4,\n",
              "       6, 5, 3, 3, 6, 6, 0, 6, 2, 6, 3, 4, 2, 0, 3, 4, 6, 2, 2, 0, 4, 4,\n",
              "       6, 5, 2, 1, 3, 4, 0, 0, 3, 6, 4, 4, 2, 3, 2, 5, 6, 2, 3, 5, 4, 1,\n",
              "       0, 2, 1, 0, 1, 1, 4, 4, 3, 3, 2, 2, 3, 5, 3, 0, 6, 1, 3, 4, 5, 0,\n",
              "       0, 6, 5, 4, 3, 0, 3, 1, 4, 6, 0, 6, 2, 6, 1, 4, 4, 0, 4, 2, 2, 5,\n",
              "       2, 2, 6, 4, 5, 5, 3, 4, 4, 1, 4, 4, 2, 1, 4, 0, 3, 2, 4, 2, 3, 0,\n",
              "       1, 4, 5, 4, 3, 6, 3, 1, 5, 1, 4, 3, 2, 3, 2, 6, 4, 5, 6, 3, 2, 4,\n",
              "       3, 5, 6, 3, 5, 4, 2, 6, 0, 5, 5, 2, 0, 6, 5, 5, 6, 2, 1, 2, 4, 4,\n",
              "       4, 5, 6, 0, 6, 2, 1, 3, 6, 5, 4, 1, 0, 4, 3, 3, 5, 1, 0, 0, 5, 2,\n",
              "       2, 5, 1, 1, 4, 2, 1, 3, 4, 2, 3, 0, 6, 5, 4, 6, 2, 1, 1, 3, 1, 6,\n",
              "       2, 2, 0, 5, 5, 4, 3, 1, 1, 0, 2, 5, 0, 0, 6, 4, 5, 3, 6, 5, 4, 6,\n",
              "       2, 2, 4, 3, 6, 6, 6, 4, 6, 5, 5, 5, 4, 3, 2, 2, 0, 2, 0, 2, 1, 6,\n",
              "       0, 6, 6, 1, 0, 0, 5, 6, 5, 5, 0, 4, 5, 2, 2, 4, 6, 0, 5, 3, 6, 6,\n",
              "       3, 3, 0, 5, 6, 3, 3, 1, 1, 3, 4, 5, 6, 3, 5, 6, 5, 4, 4, 6, 2, 1,\n",
              "       0, 4, 0, 2, 1, 5, 1, 6, 5, 4, 5, 4, 2, 6, 5, 2, 5, 5, 4, 0, 1, 3,\n",
              "       4, 1, 4, 4, 5, 6, 3, 6, 6, 3, 0, 5, 4, 0, 1, 2, 4, 6, 0, 3, 1, 5,\n",
              "       3, 3, 0, 6, 2, 3, 6, 1, 0, 2, 1, 6, 1, 5, 5, 2, 2, 2, 2, 5, 1, 2,\n",
              "       1, 3, 5, 3, 3, 0, 3, 3, 0, 4, 6, 1, 2, 1, 0, 1, 5, 6, 1, 3, 2, 5,\n",
              "       0, 1, 3, 3, 5, 5, 4, 2, 1, 2, 0, 5, 3, 3, 6, 6, 6, 4, 6, 1, 1, 4,\n",
              "       1, 2, 5, 1, 2, 4, 5, 1, 2, 5, 0, 6, 3, 3, 5, 0, 5, 6, 3, 3, 4, 1,\n",
              "       4, 4, 2, 1, 5, 1, 0, 5, 5, 0, 1, 1, 0, 4, 2, 3, 3, 6, 5, 0, 3, 4,\n",
              "       1, 2, 0, 3, 2, 0, 6, 2, 1, 0, 5, 3, 0, 0, 6, 4, 3, 1, 5, 3, 0, 1,\n",
              "       0, 4, 0, 6, 6, 2, 5, 6, 6, 2, 2, 0, 6, 3, 1, 0, 2, 4, 3, 0, 0, 3,\n",
              "       1, 4, 6, 1, 1, 5, 0, 6, 5, 4, 1, 2, 2, 0, 6, 0, 2, 2, 5, 0, 2, 3,\n",
              "       0, 3, 0, 0, 5, 1, 4, 2, 1, 3, 5, 0, 2, 5, 3, 4, 3, 3, 1, 4, 5, 3,\n",
              "       3, 5, 3, 6, 6, 6, 4, 0, 5, 5, 3, 3, 3, 3, 1, 1, 6, 0, 4, 6, 3, 4,\n",
              "       1, 4, 0, 0, 1, 6, 1, 4, 4, 1, 5, 1, 0, 1, 2, 3, 2, 3, 1, 0, 6, 5,\n",
              "       1, 3, 6, 2, 5, 3, 4, 5, 6, 2, 6, 3, 2, 1, 5, 6, 0, 6, 4, 2, 4, 2,\n",
              "       0, 5, 3, 5, 1, 4, 3, 6, 6, 6, 6, 0, 4, 6, 0, 2, 2, 2, 5, 5, 6, 4,\n",
              "       5, 5, 6, 1, 4, 2, 0, 0, 0, 2, 3, 5, 4, 2, 1, 3, 2, 4, 4, 0, 2, 0,\n",
              "       1, 6, 5, 2, 5, 0, 1, 0, 5, 2, 2, 4, 1, 4, 3, 4, 5, 1, 5, 4, 1, 0,\n",
              "       5, 4, 6, 4, 1, 4, 1, 4, 2, 1, 2, 2, 4, 2, 4, 5, 0, 1, 2, 5, 2, 3,\n",
              "       2, 0, 5, 1, 0, 5, 1, 5, 5, 3, 2, 6, 6, 2, 2, 5, 2, 5, 4, 4, 3, 1,\n",
              "       1, 4, 3, 5, 4, 6, 0, 0, 0, 5, 1, 2, 0, 3, 2, 6, 2, 3, 2, 5, 6, 3])"
            ]
          },
          "metadata": {
            "tags": []
          },
          "execution_count": 136
        }
      ]
    },
    {
      "cell_type": "code",
      "metadata": {
        "id": "RXodqiDa4BYU",
        "colab_type": "code",
        "colab": {
          "base_uri": "https://localhost:8080/",
          "height": 252
        },
        "outputId": "405cafb5-ba59-4f7f-93f7-b53890510699"
      },
      "source": [
        "from sklearn.metrics import classification_report\n",
        "report = classification_report(new_Ytest, predictions)\n",
        "print(report)"
      ],
      "execution_count": null,
      "outputs": [
        {
          "output_type": "stream",
          "text": [
            "              precision    recall  f1-score   support\n",
            "\n",
            "           0       1.00      1.00      1.00       128\n",
            "           1       1.00      0.98      0.99       125\n",
            "           2       0.88      0.97      0.92       130\n",
            "           3       0.96      1.00      0.98       137\n",
            "           4       1.00      0.96      0.98       139\n",
            "           5       0.96      0.79      0.87       135\n",
            "           6       0.78      0.87      0.82       130\n",
            "\n",
            "    accuracy                           0.94       924\n",
            "   macro avg       0.94      0.94      0.94       924\n",
            "weighted avg       0.94      0.94      0.94       924\n",
            "\n"
          ],
          "name": "stdout"
        }
      ]
    },
    {
      "cell_type": "markdown",
      "metadata": {
        "id": "veALfo4d_YYm",
        "colab_type": "text"
      },
      "source": [
        "Confusion matrix"
      ]
    },
    {
      "cell_type": "code",
      "metadata": {
        "id": "mkiqLKSi_MF3",
        "colab_type": "code",
        "colab": {
          "base_uri": "https://localhost:8080/",
          "height": 134
        },
        "outputId": "7de1e9c9-3ec4-40ac-e9bb-8eb2ffe0b848"
      },
      "source": [
        "from sklearn.metrics import confusion_matrix\n",
        "matrix = confusion_matrix(new_Ytest, predictions)\n",
        "print (matrix)\n",
        "\n",
        "# 0 = angry, 1 = disgust, 2 = fear, 3 = happy, 4 = neutral, 5 = surprise, 6 = sad"
      ],
      "execution_count": null,
      "outputs": [
        {
          "output_type": "stream",
          "text": [
            "[[128   0   0   0   0   0   0]\n",
            " [  0 122   0   0   0   3   0]\n",
            " [  0   0 126   1   0   1   2]\n",
            " [  0   0   0 137   0   0   0]\n",
            " [  0   0   0   5 134   0   0]\n",
            " [  0   0   0   0   0 106  29]\n",
            " [  0   0  17   0   0   0 113]]\n"
          ],
          "name": "stdout"
        }
      ]
    },
    {
      "cell_type": "markdown",
      "metadata": {
        "id": "JqRtqmYN_07r",
        "colab_type": "text"
      },
      "source": [
        "Save the model"
      ]
    },
    {
      "cell_type": "code",
      "metadata": {
        "id": "3luRSyeA_akh",
        "colab_type": "code",
        "colab": {
          "base_uri": "https://localhost:8080/",
          "height": 34
        },
        "outputId": "88cc31b7-1f13-469d-c0e1-687929004693"
      },
      "source": [
        "model_name = 'Emotion_Voice_Detection_Model_TORONTO_ORIGINAL.h5'\n",
        "save_dir = '/content/drive/My Drive/TORONTO_model'\n",
        "# Save model and weights\n",
        "if not os.path.isdir(save_dir):\n",
        "    os.makedirs(save_dir)\n",
        "model_path = os.path.join(save_dir, model_name)\n",
        "model.save(model_path)\n",
        "print('Saved trained model at %s ' % model_path)"
      ],
      "execution_count": null,
      "outputs": [
        {
          "output_type": "stream",
          "text": [
            "Saved trained model at /content/drive/My Drive/TORONTO_model/Emotion_Voice_Detection_Model_TORONTO_ORIGINAL.h5 \n"
          ],
          "name": "stdout"
        }
      ]
    },
    {
      "cell_type": "code",
      "metadata": {
        "id": "gFpOuacq_lC8",
        "colab_type": "code",
        "colab": {
          "base_uri": "https://localhost:8080/",
          "height": 370
        },
        "outputId": "a3b9152f-8519-48d0-e3a4-2482c6d21a7d"
      },
      "source": [
        "loaded_model = keras.models.load_model('/content/drive/My Drive/TORONTO_model/Emotion_Voice_Detection_Model_TORONTO_ORIGINAL.h5')\n",
        "loaded_model.summary()"
      ],
      "execution_count": null,
      "outputs": [
        {
          "output_type": "stream",
          "text": [
            "_________________________________________________________________\n",
            "Layer (type)                 Output Shape              Param #   \n",
            "=================================================================\n",
            "conv1d_25 (Conv1D)           (None, 128, 32)           192       \n",
            "_________________________________________________________________\n",
            "max_pooling1d_15 (MaxPooling (None, 16, 32)            0         \n",
            "_________________________________________________________________\n",
            "dropout_27 (Dropout)         (None, 16, 32)            0         \n",
            "_________________________________________________________________\n",
            "flatten_15 (Flatten)         (None, 512)               0         \n",
            "_________________________________________________________________\n",
            "dense_78 (Dense)             (None, 128)               65664     \n",
            "_________________________________________________________________\n",
            "dropout_28 (Dropout)         (None, 128)               0         \n",
            "_________________________________________________________________\n",
            "dense_79 (Dense)             (None, 7)                 903       \n",
            "=================================================================\n",
            "Total params: 66,759\n",
            "Trainable params: 66,759\n",
            "Non-trainable params: 0\n",
            "_________________________________________________________________\n"
          ],
          "name": "stdout"
        }
      ]
    },
    {
      "cell_type": "code",
      "metadata": {
        "id": "0Xivmni8_utx",
        "colab_type": "code",
        "colab": {
          "base_uri": "https://localhost:8080/",
          "height": 50
        },
        "outputId": "c18aa088-2278-4cdc-8f7c-db74a16b6c52"
      },
      "source": [
        "loss, acc = loaded_model.evaluate(x_testcnn, y_test)\n",
        "print(\"Restored model, accuracy: {:5.2f}%\".format(100*acc))"
      ],
      "execution_count": null,
      "outputs": [
        {
          "output_type": "stream",
          "text": [
            "924/924 [==============================] - 1s 1ms/step\n",
            "Restored model, accuracy: 93.72%\n"
          ],
          "name": "stdout"
        }
      ]
    },
    {
      "cell_type": "markdown",
      "metadata": {
        "id": "4T-vZ49yX4Ao",
        "colab_type": "text"
      },
      "source": [
        "APPLYING AUTOENCODER"
      ]
    },
    {
      "cell_type": "code",
      "metadata": {
        "id": "y-bCRZqEYQTQ",
        "colab_type": "code",
        "colab": {
          "base_uri": "https://localhost:8080/",
          "height": 558
        },
        "outputId": "89b6f889-a8f3-4850-b01d-404c3a6e63e6"
      },
      "source": [
        "!pip install pydub\n",
        "from scipy.io import wavfile\n",
        "import wave\n",
        "import struct\n",
        "from struct import *\n",
        "import matplotlib.pyplot as plt\n",
        "!pip install keras==2.1.5\n",
        "from keras.layers import Input, Dense\n",
        "from keras.models import Model\n",
        "import matplotlib.pyplot as plt\n",
        "from keras.callbacks import ModelCheckpoint\n",
        "from sklearn.preprocessing import MinMaxScaler"
      ],
      "execution_count": null,
      "outputs": [
        {
          "output_type": "stream",
          "text": [
            "Requirement already satisfied: pydub in /usr/local/lib/python3.6/dist-packages (0.23.1)\n",
            "Requirement already satisfied: keras==2.1.5 in /usr/local/lib/python3.6/dist-packages (2.1.5)\n",
            "Requirement already satisfied: pyyaml in /usr/local/lib/python3.6/dist-packages (from keras==2.1.5) (3.13)\n",
            "Requirement already satisfied: six>=1.9.0 in /usr/local/lib/python3.6/dist-packages (from keras==2.1.5) (1.12.0)\n",
            "Requirement already satisfied: numpy>=1.9.1 in /usr/local/lib/python3.6/dist-packages (from keras==2.1.5) (1.18.3)\n",
            "Requirement already satisfied: scipy>=0.14 in /usr/local/lib/python3.6/dist-packages (from keras==2.1.5) (1.4.1)\n"
          ],
          "name": "stdout"
        },
        {
          "output_type": "stream",
          "text": [
            "Using TensorFlow backend.\n",
            "/usr/local/lib/python3.6/dist-packages/tensorflow/python/framework/dtypes.py:516: FutureWarning: Passing (type, 1) or '1type' as a synonym of type is deprecated; in a future version of numpy, it will be understood as (type, (1,)) / '(1,)type'.\n",
            "  _np_qint8 = np.dtype([(\"qint8\", np.int8, 1)])\n",
            "/usr/local/lib/python3.6/dist-packages/tensorflow/python/framework/dtypes.py:517: FutureWarning: Passing (type, 1) or '1type' as a synonym of type is deprecated; in a future version of numpy, it will be understood as (type, (1,)) / '(1,)type'.\n",
            "  _np_quint8 = np.dtype([(\"quint8\", np.uint8, 1)])\n",
            "/usr/local/lib/python3.6/dist-packages/tensorflow/python/framework/dtypes.py:518: FutureWarning: Passing (type, 1) or '1type' as a synonym of type is deprecated; in a future version of numpy, it will be understood as (type, (1,)) / '(1,)type'.\n",
            "  _np_qint16 = np.dtype([(\"qint16\", np.int16, 1)])\n",
            "/usr/local/lib/python3.6/dist-packages/tensorflow/python/framework/dtypes.py:519: FutureWarning: Passing (type, 1) or '1type' as a synonym of type is deprecated; in a future version of numpy, it will be understood as (type, (1,)) / '(1,)type'.\n",
            "  _np_quint16 = np.dtype([(\"quint16\", np.uint16, 1)])\n",
            "/usr/local/lib/python3.6/dist-packages/tensorflow/python/framework/dtypes.py:520: FutureWarning: Passing (type, 1) or '1type' as a synonym of type is deprecated; in a future version of numpy, it will be understood as (type, (1,)) / '(1,)type'.\n",
            "  _np_qint32 = np.dtype([(\"qint32\", np.int32, 1)])\n",
            "/usr/local/lib/python3.6/dist-packages/tensorflow/python/framework/dtypes.py:525: FutureWarning: Passing (type, 1) or '1type' as a synonym of type is deprecated; in a future version of numpy, it will be understood as (type, (1,)) / '(1,)type'.\n",
            "  np_resource = np.dtype([(\"resource\", np.ubyte, 1)])\n",
            "/usr/local/lib/python3.6/dist-packages/tensorboard/compat/tensorflow_stub/dtypes.py:541: FutureWarning: Passing (type, 1) or '1type' as a synonym of type is deprecated; in a future version of numpy, it will be understood as (type, (1,)) / '(1,)type'.\n",
            "  _np_qint8 = np.dtype([(\"qint8\", np.int8, 1)])\n",
            "/usr/local/lib/python3.6/dist-packages/tensorboard/compat/tensorflow_stub/dtypes.py:542: FutureWarning: Passing (type, 1) or '1type' as a synonym of type is deprecated; in a future version of numpy, it will be understood as (type, (1,)) / '(1,)type'.\n",
            "  _np_quint8 = np.dtype([(\"quint8\", np.uint8, 1)])\n",
            "/usr/local/lib/python3.6/dist-packages/tensorboard/compat/tensorflow_stub/dtypes.py:543: FutureWarning: Passing (type, 1) or '1type' as a synonym of type is deprecated; in a future version of numpy, it will be understood as (type, (1,)) / '(1,)type'.\n",
            "  _np_qint16 = np.dtype([(\"qint16\", np.int16, 1)])\n",
            "/usr/local/lib/python3.6/dist-packages/tensorboard/compat/tensorflow_stub/dtypes.py:544: FutureWarning: Passing (type, 1) or '1type' as a synonym of type is deprecated; in a future version of numpy, it will be understood as (type, (1,)) / '(1,)type'.\n",
            "  _np_quint16 = np.dtype([(\"quint16\", np.uint16, 1)])\n",
            "/usr/local/lib/python3.6/dist-packages/tensorboard/compat/tensorflow_stub/dtypes.py:545: FutureWarning: Passing (type, 1) or '1type' as a synonym of type is deprecated; in a future version of numpy, it will be understood as (type, (1,)) / '(1,)type'.\n",
            "  _np_qint32 = np.dtype([(\"qint32\", np.int32, 1)])\n",
            "/usr/local/lib/python3.6/dist-packages/tensorboard/compat/tensorflow_stub/dtypes.py:550: FutureWarning: Passing (type, 1) or '1type' as a synonym of type is deprecated; in a future version of numpy, it will be understood as (type, (1,)) / '(1,)type'.\n",
            "  np_resource = np.dtype([(\"resource\", np.ubyte, 1)])\n"
          ],
          "name": "stderr"
        }
      ]
    },
    {
      "cell_type": "code",
      "metadata": {
        "id": "i5VW9XVCWDU4",
        "colab_type": "code",
        "colab": {}
      },
      "source": [
        "x_train= MinMaxScaler().fit_transform(lst)"
      ],
      "execution_count": null,
      "outputs": []
    },
    {
      "cell_type": "code",
      "metadata": {
        "id": "oJEOykS0YaC4",
        "colab_type": "code",
        "colab": {
          "base_uri": "https://localhost:8080/",
          "height": 34
        },
        "outputId": "fc709fec-23b6-42ad-9098-e12cf148a0ca"
      },
      "source": [
        "x_train.shape"
      ],
      "execution_count": null,
      "outputs": [
        {
          "output_type": "execute_result",
          "data": {
            "text/plain": [
              "(2800, 128)"
            ]
          },
          "metadata": {
            "tags": []
          },
          "execution_count": 26
        }
      ]
    },
    {
      "cell_type": "code",
      "metadata": {
        "id": "Dzmz-fnHaKq8",
        "colab_type": "code",
        "colab": {
          "base_uri": "https://localhost:8080/",
          "height": 1000
        },
        "outputId": "a9531fda-c32e-4d9d-9fff-cadbb9cd055f"
      },
      "source": [
        "encoding_dim = 64\n",
        "input_img = Input(shape=(128,))\n",
        "encoded = Dense(encoding_dim, activation='relu')(input_img)\n",
        "\n",
        "\n",
        "decoded = Dense(128, activation='sigmoid')(encoded)\n",
        "\n",
        "autoencoder = Model(input_img, decoded)\n",
        "encoder = Model(input=input_img, output=encoded)\n",
        "encoded_input = Input(shape=(encoding_dim,))\n",
        "\n",
        "decoder_layer = autoencoder.layers[-1]\n",
        "\n",
        "decoder = Model(input=encoded_input, output=decoder_layer(encoded_input))\n",
        "autoencoder.compile(optimizer='adadelta', loss='binary_crossentropy')\n",
        "\n",
        "\n",
        "filepath=\"audio.compress-{loss:.4f}.hdf5\"\n",
        "checkpoint = ModelCheckpoint(filepath, monitor='binary_crossentropy', verbose=1, save_best_only=False)\n",
        "autoencoder.summary()\n",
        "autoencoder.fit(x_train, x_train,\n",
        "                epochs=100,\n",
        "                batch_size=256,\n",
        "                shuffle=True,\n",
        "                validation_data=(x_train, x_train),callbacks=[checkpoint],verbose=0)"
      ],
      "execution_count": null,
      "outputs": [
        {
          "output_type": "stream",
          "text": [
            "/usr/local/lib/python3.6/dist-packages/ipykernel_launcher.py:13: UserWarning: Update your `Model` call to the Keras 2 API: `Model(inputs=Tensor(\"in..., outputs=Tensor(\"de...)`\n",
            "  del sys.path[0]\n",
            "/usr/local/lib/python3.6/dist-packages/ipykernel_launcher.py:18: UserWarning: Update your `Model` call to the Keras 2 API: `Model(inputs=Tensor(\"in..., outputs=Tensor(\"de...)`\n"
          ],
          "name": "stderr"
        },
        {
          "output_type": "stream",
          "text": [
            "_________________________________________________________________\n",
            "Layer (type)                 Output Shape              Param #   \n",
            "=================================================================\n",
            "input_19 (InputLayer)        (None, 128)               0         \n",
            "_________________________________________________________________\n",
            "dense_52 (Dense)             (None, 64)                8256      \n",
            "_________________________________________________________________\n",
            "dense_53 (Dense)             (None, 128)               8320      \n",
            "=================================================================\n",
            "Total params: 16,576\n",
            "Trainable params: 16,576\n",
            "Non-trainable params: 0\n",
            "_________________________________________________________________\n",
            "\n",
            "Epoch 00001: saving model to audio.compress-0.6981.hdf5\n",
            "\n",
            "Epoch 00002: saving model to audio.compress-0.6894.hdf5\n",
            "\n",
            "Epoch 00003: saving model to audio.compress-0.6851.hdf5\n",
            "\n",
            "Epoch 00004: saving model to audio.compress-0.6813.hdf5\n",
            "\n",
            "Epoch 00005: saving model to audio.compress-0.6777.hdf5\n",
            "\n",
            "Epoch 00006: saving model to audio.compress-0.6747.hdf5\n",
            "\n",
            "Epoch 00007: saving model to audio.compress-0.6724.hdf5\n",
            "\n",
            "Epoch 00008: saving model to audio.compress-0.6709.hdf5\n",
            "\n",
            "Epoch 00009: saving model to audio.compress-0.6699.hdf5\n",
            "\n",
            "Epoch 00010: saving model to audio.compress-0.6693.hdf5\n",
            "\n",
            "Epoch 00011: saving model to audio.compress-0.6689.hdf5\n",
            "\n",
            "Epoch 00012: saving model to audio.compress-0.6687.hdf5\n",
            "\n",
            "Epoch 00013: saving model to audio.compress-0.6685.hdf5\n",
            "\n",
            "Epoch 00014: saving model to audio.compress-0.6684.hdf5\n",
            "\n",
            "Epoch 00015: saving model to audio.compress-0.6683.hdf5\n",
            "\n",
            "Epoch 00016: saving model to audio.compress-0.6682.hdf5\n",
            "\n",
            "Epoch 00017: saving model to audio.compress-0.6681.hdf5\n",
            "\n",
            "Epoch 00018: saving model to audio.compress-0.6680.hdf5\n",
            "\n",
            "Epoch 00019: saving model to audio.compress-0.6679.hdf5\n",
            "\n",
            "Epoch 00020: saving model to audio.compress-0.6678.hdf5\n",
            "\n",
            "Epoch 00021: saving model to audio.compress-0.6677.hdf5\n",
            "\n",
            "Epoch 00022: saving model to audio.compress-0.6677.hdf5\n",
            "\n",
            "Epoch 00023: saving model to audio.compress-0.6676.hdf5\n",
            "\n",
            "Epoch 00024: saving model to audio.compress-0.6675.hdf5\n",
            "\n",
            "Epoch 00025: saving model to audio.compress-0.6674.hdf5\n",
            "\n",
            "Epoch 00026: saving model to audio.compress-0.6673.hdf5\n",
            "\n",
            "Epoch 00027: saving model to audio.compress-0.6672.hdf5\n",
            "\n",
            "Epoch 00028: saving model to audio.compress-0.6671.hdf5\n",
            "\n",
            "Epoch 00029: saving model to audio.compress-0.6670.hdf5\n",
            "\n",
            "Epoch 00030: saving model to audio.compress-0.6669.hdf5\n",
            "\n",
            "Epoch 00031: saving model to audio.compress-0.6667.hdf5\n",
            "\n",
            "Epoch 00032: saving model to audio.compress-0.6666.hdf5\n",
            "\n",
            "Epoch 00033: saving model to audio.compress-0.6665.hdf5\n",
            "\n",
            "Epoch 00034: saving model to audio.compress-0.6664.hdf5\n",
            "\n",
            "Epoch 00035: saving model to audio.compress-0.6663.hdf5\n",
            "\n",
            "Epoch 00036: saving model to audio.compress-0.6662.hdf5\n",
            "\n",
            "Epoch 00037: saving model to audio.compress-0.6660.hdf5\n",
            "\n",
            "Epoch 00038: saving model to audio.compress-0.6659.hdf5\n",
            "\n",
            "Epoch 00039: saving model to audio.compress-0.6658.hdf5\n",
            "\n",
            "Epoch 00040: saving model to audio.compress-0.6657.hdf5\n",
            "\n",
            "Epoch 00041: saving model to audio.compress-0.6655.hdf5\n",
            "\n",
            "Epoch 00042: saving model to audio.compress-0.6654.hdf5\n",
            "\n",
            "Epoch 00043: saving model to audio.compress-0.6653.hdf5\n",
            "\n",
            "Epoch 00044: saving model to audio.compress-0.6651.hdf5\n",
            "\n",
            "Epoch 00045: saving model to audio.compress-0.6650.hdf5\n",
            "\n",
            "Epoch 00046: saving model to audio.compress-0.6648.hdf5\n",
            "\n",
            "Epoch 00047: saving model to audio.compress-0.6647.hdf5\n",
            "\n",
            "Epoch 00048: saving model to audio.compress-0.6645.hdf5\n",
            "\n",
            "Epoch 00049: saving model to audio.compress-0.6644.hdf5\n",
            "\n",
            "Epoch 00050: saving model to audio.compress-0.6642.hdf5\n",
            "\n",
            "Epoch 00051: saving model to audio.compress-0.6641.hdf5\n",
            "\n",
            "Epoch 00052: saving model to audio.compress-0.6639.hdf5\n",
            "\n",
            "Epoch 00053: saving model to audio.compress-0.6637.hdf5\n",
            "\n",
            "Epoch 00054: saving model to audio.compress-0.6636.hdf5\n",
            "\n",
            "Epoch 00055: saving model to audio.compress-0.6634.hdf5\n",
            "\n",
            "Epoch 00056: saving model to audio.compress-0.6632.hdf5\n",
            "\n",
            "Epoch 00057: saving model to audio.compress-0.6631.hdf5\n",
            "\n",
            "Epoch 00058: saving model to audio.compress-0.6629.hdf5\n",
            "\n",
            "Epoch 00059: saving model to audio.compress-0.6627.hdf5\n",
            "\n",
            "Epoch 00060: saving model to audio.compress-0.6625.hdf5\n",
            "\n",
            "Epoch 00061: saving model to audio.compress-0.6624.hdf5\n",
            "\n",
            "Epoch 00062: saving model to audio.compress-0.6622.hdf5\n",
            "\n",
            "Epoch 00063: saving model to audio.compress-0.6620.hdf5\n",
            "\n",
            "Epoch 00064: saving model to audio.compress-0.6618.hdf5\n",
            "\n",
            "Epoch 00065: saving model to audio.compress-0.6616.hdf5\n",
            "\n",
            "Epoch 00066: saving model to audio.compress-0.6615.hdf5\n",
            "\n",
            "Epoch 00067: saving model to audio.compress-0.6613.hdf5\n",
            "\n",
            "Epoch 00068: saving model to audio.compress-0.6611.hdf5\n",
            "\n",
            "Epoch 00069: saving model to audio.compress-0.6609.hdf5\n",
            "\n",
            "Epoch 00070: saving model to audio.compress-0.6607.hdf5\n",
            "\n",
            "Epoch 00071: saving model to audio.compress-0.6606.hdf5\n",
            "\n",
            "Epoch 00072: saving model to audio.compress-0.6604.hdf5\n",
            "\n",
            "Epoch 00073: saving model to audio.compress-0.6602.hdf5\n",
            "\n",
            "Epoch 00074: saving model to audio.compress-0.6600.hdf5\n",
            "\n",
            "Epoch 00075: saving model to audio.compress-0.6599.hdf5\n",
            "\n",
            "Epoch 00076: saving model to audio.compress-0.6597.hdf5\n",
            "\n",
            "Epoch 00077: saving model to audio.compress-0.6595.hdf5\n",
            "\n",
            "Epoch 00078: saving model to audio.compress-0.6593.hdf5\n",
            "\n",
            "Epoch 00079: saving model to audio.compress-0.6592.hdf5\n",
            "\n",
            "Epoch 00080: saving model to audio.compress-0.6590.hdf5\n",
            "\n",
            "Epoch 00081: saving model to audio.compress-0.6588.hdf5\n",
            "\n",
            "Epoch 00082: saving model to audio.compress-0.6587.hdf5\n",
            "\n",
            "Epoch 00083: saving model to audio.compress-0.6585.hdf5\n",
            "\n",
            "Epoch 00084: saving model to audio.compress-0.6583.hdf5\n",
            "\n",
            "Epoch 00085: saving model to audio.compress-0.6582.hdf5\n",
            "\n",
            "Epoch 00086: saving model to audio.compress-0.6580.hdf5\n",
            "\n",
            "Epoch 00087: saving model to audio.compress-0.6579.hdf5\n",
            "\n",
            "Epoch 00088: saving model to audio.compress-0.6577.hdf5\n",
            "\n",
            "Epoch 00089: saving model to audio.compress-0.6576.hdf5\n",
            "\n",
            "Epoch 00090: saving model to audio.compress-0.6574.hdf5\n",
            "\n",
            "Epoch 00091: saving model to audio.compress-0.6573.hdf5\n",
            "\n",
            "Epoch 00092: saving model to audio.compress-0.6571.hdf5\n",
            "\n",
            "Epoch 00093: saving model to audio.compress-0.6570.hdf5\n",
            "\n",
            "Epoch 00094: saving model to audio.compress-0.6569.hdf5\n",
            "\n",
            "Epoch 00095: saving model to audio.compress-0.6567.hdf5\n",
            "\n",
            "Epoch 00096: saving model to audio.compress-0.6566.hdf5\n",
            "\n",
            "Epoch 00097: saving model to audio.compress-0.6565.hdf5\n",
            "\n",
            "Epoch 00098: saving model to audio.compress-0.6563.hdf5\n",
            "\n",
            "Epoch 00099: saving model to audio.compress-0.6562.hdf5\n",
            "\n",
            "Epoch 00100: saving model to audio.compress-0.6561.hdf5\n"
          ],
          "name": "stdout"
        },
        {
          "output_type": "execute_result",
          "data": {
            "text/plain": [
              "<keras.callbacks.History at 0x7f6cf2a9db70>"
            ]
          },
          "metadata": {
            "tags": []
          },
          "execution_count": 46
        }
      ]
    },
    {
      "cell_type": "code",
      "metadata": {
        "id": "D4QZ-RFGrX7x",
        "colab_type": "code",
        "colab": {
          "base_uri": "https://localhost:8080/",
          "height": 578
        },
        "outputId": "4e2d1f6c-fe3d-4b09-ec9d-9dbc00a5e935"
      },
      "source": [
        "filename = \"audio.compress-0.6561.hdf5\"\n",
        "autoencoder.load_weights(filename)\n",
        "autoencoder.compile(loss='mean_squared_error', optimizer='adam')\n",
        "encoded_imgs = encoder.predict(x_train)\n",
        "decoded_imgs = decoder.predict(encoded_imgs)\n",
        "\n",
        "n = 1  # how many digits we will display\n",
        "plt.figure(figsize=(10, 5))\n",
        "for i in range(n):\n",
        "    # display original\n",
        "    ax = plt.subplot(2, n, i + 1)\n",
        "    plt.imshow(x_train[i].reshape(16,8 ))\n",
        "    plt.title(\"ORIGINAL AUDIO\")\n",
        "    plt.gray()\n",
        "    ax.get_xaxis().set_visible(False)\n",
        "    ax.get_yaxis().set_visible(False)\n",
        "plt.show()\n",
        "\n",
        "plt.figure(figsize=(8, .5))\n",
        "for i in range(n):\n",
        "    ax = plt.subplot(1, n, i+1)\n",
        "    plt.imshow(encoded_imgs.reshape(1792,100).T)\n",
        "    plt.title('ENCODED AUDIO')    \n",
        "    plt.gray()\n",
        "    ax.get_xaxis().set_visible(False)\n",
        "    ax.get_yaxis().set_visible(False)\n",
        "plt.show()\n",
        "\n",
        "plt.figure(figsize=(10, 5))\n",
        "for i in range(n):\n",
        "    # display reconstruction\n",
        "    ax = plt.subplot(2, n, i + 1 + n)\n",
        "    plt.imshow(decoded_imgs[i].reshape(16,8 ))\n",
        "    plt.title(\"RECONSTRUCTED AUDIO\")\n",
        "    plt.gray()\n",
        "    ax.get_xaxis().set_visible(False)\n",
        "    ax.get_yaxis().set_visible(False)\n",
        "plt.show()\n",
        "\n",
        "print(\"Accuracy=\",1-np.mean(abs(x_train-decoded_imgs)),'\\n')\n",
        "\n",
        "plt.figure(figsize=(10, 2))\n",
        "plt.plot(x_train[0],color='r',linewidth=3)\n",
        "plt.plot(decoded_imgs[0])\n",
        "plt.title('ORIGINAL (blue) and RECONSTRUCTED AUDIO (red)')\n",
        "plt.show()"
      ],
      "execution_count": null,
      "outputs": [
        {
          "output_type": "display_data",
          "data": {
            "image/png": "[encoded data removed]",
            "text/plain": [
              "<Figure size 720x360 with 1 Axes>"
            ]
          },
          "metadata": {
            "tags": [],
            "needs_background": "light"
          }
        },
        {
          "output_type": "display_data",
          "data": {
            "image/png": "[encoded data removed]",
            "text/plain": [
              "<Figure size 576x36 with 1 Axes>"
            ]
          },
          "metadata": {
            "tags": [],
            "needs_background": "light"
          }
        },
        {
          "output_type": "display_data",
          "data": {
            "image/png": "[encoded data removed]",
            "text/plain": [
              "<Figure size 720x360 with 1 Axes>"
            ]
          },
          "metadata": {
            "tags": [],
            "needs_background": "light"
          }
        },
        {
          "output_type": "stream",
          "text": [
            "Accuracy= 0.9192111867933958 \n",
            "\n"
          ],
          "name": "stdout"
        },
        {
          "output_type": "display_data",
          "data": {
            "image/png": "[encoded data removed]",
            "text/plain": [
              "<Figure size 720x144 with 1 Axes>"
            ]
          },
          "metadata": {
            "tags": [],
            "needs_background": "light"
          }
        }
      ]
    },
    {
      "cell_type": "code",
      "metadata": {
        "id": "tKOA1fhTuy9d",
        "colab_type": "code",
        "colab": {
          "base_uri": "https://localhost:8080/",
          "height": 34
        },
        "outputId": "cd8a9797-e5d2-4dc4-9f66-6e9dd2bddf28"
      },
      "source": [
        "decoded_imgs.shape"
      ],
      "execution_count": null,
      "outputs": [
        {
          "output_type": "execute_result",
          "data": {
            "text/plain": [
              "(2800, 128)"
            ]
          },
          "metadata": {
            "tags": []
          },
          "execution_count": 49
        }
      ]
    },
    {
      "cell_type": "code",
      "metadata": {
        "id": "Q4RaVDNnu3HD",
        "colab_type": "code",
        "colab": {}
      },
      "source": [
        "X_train_encoded, X_test_encoded, y_train_encoded, y_test_encoded = train_test_split(decoded_imgs, y, test_size=0.33, random_state=42)"
      ],
      "execution_count": null,
      "outputs": []
    },
    {
      "cell_type": "markdown",
      "metadata": {
        "id": "tW3T0Ncr-tpy",
        "colab_type": "text"
      },
      "source": [
        "SVM MODEL"
      ]
    },
    {
      "cell_type": "code",
      "metadata": {
        "id": "wlUX-Es8vdZA",
        "colab_type": "code",
        "colab": {
          "base_uri": "https://localhost:8080/",
          "height": 34
        },
        "outputId": "9789de7d-dcab-4093-ddc4-6f64364999ae"
      },
      "source": [
        "# Building the SVM model \n",
        "svmclf = SVC() \n",
        "svmclf.fit(X_train_encoded, y_train_encoded) \n",
        "  \n",
        "# Storing the predictions of the non-linear model \n",
        "y_pred_svmclf = svmclf.predict(X_test_encoded) \n",
        "  \n",
        "# Evaluating the performance of the non-linear model \n",
        "print('Accuracy : '+str(accuracy_score(y_test_encoded, y_pred_svmclf))) "
      ],
      "execution_count": null,
      "outputs": [
        {
          "output_type": "stream",
          "text": [
            "Accuracy : 0.9199134199134199\n"
          ],
          "name": "stdout"
        }
      ]
    },
    {
      "cell_type": "markdown",
      "metadata": {
        "id": "LW8dnHsf-pnp",
        "colab_type": "text"
      },
      "source": [
        "DECISION TREE CLASSIFIER"
      ]
    },
    {
      "cell_type": "code",
      "metadata": {
        "id": "U035_Yigv3Pf",
        "colab_type": "code",
        "colab": {
          "base_uri": "https://localhost:8080/",
          "height": 252
        },
        "outputId": "a8e56269-b5a6-409a-b2ba-e3d611a4e701"
      },
      "source": [
        "from sklearn.tree import DecisionTreeClassifier\n",
        "\n",
        "dtree = DecisionTreeClassifier()\n",
        "\n",
        "dtree.fit(X_train_encoded, y_train_encoded)\n",
        "\n",
        "predictions = dtree.predict(X_test_encoded)\n",
        "from sklearn.metrics import classification_report,confusion_matrix\n",
        "print(classification_report(y_test_encoded,predictions))"
      ],
      "execution_count": null,
      "outputs": [
        {
          "output_type": "stream",
          "text": [
            "              precision    recall  f1-score   support\n",
            "\n",
            "           0       0.93      0.97      0.95       128\n",
            "           1       0.94      0.97      0.95       125\n",
            "           2       0.89      0.87      0.88       130\n",
            "           3       0.90      0.86      0.88       137\n",
            "           4       0.86      0.90      0.88       139\n",
            "           5       0.87      0.84      0.86       135\n",
            "           6       0.89      0.87      0.88       130\n",
            "\n",
            "    accuracy                           0.90       924\n",
            "   macro avg       0.90      0.90      0.90       924\n",
            "weighted avg       0.90      0.90      0.90       924\n",
            "\n"
          ],
          "name": "stdout"
        }
      ]
    },
    {
      "cell_type": "markdown",
      "metadata": {
        "id": "BcYosM__wwkz",
        "colab_type": "text"
      },
      "source": [
        "CNN"
      ]
    },
    {
      "cell_type": "code",
      "metadata": {
        "id": "clRq2cylwuuu",
        "colab_type": "code",
        "colab": {
          "base_uri": "https://localhost:8080/",
          "height": 34
        },
        "outputId": "5e080817-2c61-4bf0-9e71-d0db946da5fa"
      },
      "source": [
        "x_traincnn_encoded = np.expand_dims(X_train_encoded, axis=2)\n",
        "x_testcnn_encoded = np.expand_dims(X_test_encoded, axis=2)\n",
        "x_traincnn_encoded.shape, x_testcnn_encoded.shape, y_train_encoded.shape, y_test_encoded.shape"
      ],
      "execution_count": null,
      "outputs": [
        {
          "output_type": "execute_result",
          "data": {
            "text/plain": [
              "((1876, 128, 1), (924, 128, 1), (1876,), (924,))"
            ]
          },
          "metadata": {
            "tags": []
          },
          "execution_count": 56
        }
      ]
    },
    {
      "cell_type": "code",
      "metadata": {
        "id": "bQ-i5zF6xQ_j",
        "colab_type": "code",
        "colab": {
          "base_uri": "https://localhost:8080/",
          "height": 370
        },
        "outputId": "cd85529e-2c2e-4e15-d88b-1ac6874e769b"
      },
      "source": [
        "import keras\n",
        "import numpy as np\n",
        "import matplotlib.pyplot as plt\n",
        "import tensorflow as tf\n",
        "from keras.preprocessing import sequence\n",
        "from keras.models import Sequential\n",
        "from keras.layers import Dense, Embedding\n",
        "from keras.utils import to_categorical\n",
        "from keras.layers import Input, Flatten, Dropout, Activation\n",
        "from keras.layers import Conv1D, MaxPooling1D\n",
        "from keras.models import Model\n",
        "from keras.callbacks import ModelCheckpoint\n",
        "\n",
        "model = Sequential()\n",
        "\n",
        "model.add(Conv1D(32, 5,padding='same',\n",
        "                 input_shape=(128,1)))\n",
        "#model.add(Conv1D(64, 5,padding='same', activation='relu'))\n",
        "#model.add(Activation('relu'))\n",
        "model.add(MaxPooling1D(pool_size=(8)))\n",
        "model.add(Dropout(0.25))\n",
        "\n",
        "model.add(Flatten())\n",
        "model.add(Dense(128, activation='relu'))\n",
        "model.add(Dropout(0.5))\n",
        "model.add(Dense(7, activation='softmax'))\n",
        "#opt = keras.optimizers.rmsprop(lr=0.00005, rho=0.9, epsilon=None, decay=0.0)\n",
        "model.summary()"
      ],
      "execution_count": null,
      "outputs": [
        {
          "output_type": "stream",
          "text": [
            "_________________________________________________________________\n",
            "Layer (type)                 Output Shape              Param #   \n",
            "=================================================================\n",
            "conv1d_24 (Conv1D)           (None, 128, 32)           192       \n",
            "_________________________________________________________________\n",
            "max_pooling1d_14 (MaxPooling (None, 16, 32)            0         \n",
            "_________________________________________________________________\n",
            "dropout_25 (Dropout)         (None, 16, 32)            0         \n",
            "_________________________________________________________________\n",
            "flatten_14 (Flatten)         (None, 512)               0         \n",
            "_________________________________________________________________\n",
            "dense_76 (Dense)             (None, 128)               65664     \n",
            "_________________________________________________________________\n",
            "dropout_26 (Dropout)         (None, 128)               0         \n",
            "_________________________________________________________________\n",
            "dense_77 (Dense)             (None, 7)                 903       \n",
            "=================================================================\n",
            "Total params: 66,759\n",
            "Trainable params: 66,759\n",
            "Non-trainable params: 0\n",
            "_________________________________________________________________\n"
          ],
          "name": "stdout"
        }
      ]
    },
    {
      "cell_type": "code",
      "metadata": {
        "id": "PoUFzN5Jyes5",
        "colab_type": "code",
        "colab": {
          "base_uri": "https://localhost:8080/",
          "height": 1000
        },
        "outputId": "9c979fda-c987-43ef-9647-ef29c94286e8"
      },
      "source": [
        "model.compile(loss='sparse_categorical_crossentropy',\n",
        "              optimizer=keras.optimizers.Adadelta(),\n",
        "              metrics=['accuracy'])\n",
        "cnnhistory_encoded=model.fit(x_traincnn_encoded, y_train_encoded, batch_size=128, epochs=70, validation_data=(x_testcnn_encoded, y_test_encoded))"
      ],
      "execution_count": null,
      "outputs": [
        {
          "output_type": "stream",
          "text": [
            "Train on 1876 samples, validate on 924 samples\n",
            "Epoch 1/70\n",
            "1876/1876 [==============================] - 3s 2ms/step - loss: 0.2103 - acc: 0.9216 - val_loss: 0.1479 - val_acc: 0.9513\n",
            "Epoch 2/70\n",
            "1876/1876 [==============================] - 0s 122us/step - loss: 0.2106 - acc: 0.9254 - val_loss: 0.1466 - val_acc: 0.9535\n",
            "Epoch 3/70\n",
            "1876/1876 [==============================] - 0s 127us/step - loss: 0.1842 - acc: 0.9350 - val_loss: 0.1518 - val_acc: 0.9459\n",
            "Epoch 4/70\n",
            "1876/1876 [==============================] - 0s 128us/step - loss: 0.1995 - acc: 0.9216 - val_loss: 0.1433 - val_acc: 0.9524\n",
            "Epoch 5/70\n",
            "1876/1876 [==============================] - 0s 124us/step - loss: 0.2029 - acc: 0.9286 - val_loss: 0.1519 - val_acc: 0.9459\n",
            "Epoch 6/70\n",
            "1876/1876 [==============================] - 0s 124us/step - loss: 0.1994 - acc: 0.9296 - val_loss: 0.1480 - val_acc: 0.9491\n",
            "Epoch 7/70\n",
            "1876/1876 [==============================] - 0s 122us/step - loss: 0.2023 - acc: 0.9323 - val_loss: 0.1457 - val_acc: 0.9524\n",
            "Epoch 8/70\n",
            "1876/1876 [==============================] - 0s 125us/step - loss: 0.1888 - acc: 0.9350 - val_loss: 0.1511 - val_acc: 0.9437\n",
            "Epoch 9/70\n",
            "1876/1876 [==============================] - 0s 128us/step - loss: 0.2106 - acc: 0.9211 - val_loss: 0.1488 - val_acc: 0.9437\n",
            "Epoch 10/70\n",
            "1876/1876 [==============================] - 0s 117us/step - loss: 0.1977 - acc: 0.9286 - val_loss: 0.1424 - val_acc: 0.9513\n",
            "Epoch 11/70\n",
            "1876/1876 [==============================] - 0s 117us/step - loss: 0.1856 - acc: 0.9350 - val_loss: 0.1471 - val_acc: 0.9481\n",
            "Epoch 12/70\n",
            "1876/1876 [==============================] - 0s 126us/step - loss: 0.2043 - acc: 0.9211 - val_loss: 0.1563 - val_acc: 0.9502\n",
            "Epoch 13/70\n",
            "1876/1876 [==============================] - 0s 131us/step - loss: 0.1979 - acc: 0.9259 - val_loss: 0.1438 - val_acc: 0.9535\n",
            "Epoch 14/70\n",
            "1876/1876 [==============================] - 0s 131us/step - loss: 0.1932 - acc: 0.9264 - val_loss: 0.1562 - val_acc: 0.9426\n",
            "Epoch 15/70\n",
            "1876/1876 [==============================] - 0s 125us/step - loss: 0.1880 - acc: 0.9312 - val_loss: 0.1411 - val_acc: 0.9524\n",
            "Epoch 16/70\n",
            "1876/1876 [==============================] - 0s 124us/step - loss: 0.1910 - acc: 0.9312 - val_loss: 0.1544 - val_acc: 0.9481\n",
            "Epoch 17/70\n",
            "1876/1876 [==============================] - 0s 128us/step - loss: 0.1801 - acc: 0.9350 - val_loss: 0.1438 - val_acc: 0.9535\n",
            "Epoch 18/70\n",
            "1876/1876 [==============================] - 0s 125us/step - loss: 0.1840 - acc: 0.9307 - val_loss: 0.1319 - val_acc: 0.9578\n",
            "Epoch 19/70\n",
            "1876/1876 [==============================] - 0s 125us/step - loss: 0.1875 - acc: 0.9334 - val_loss: 0.1390 - val_acc: 0.9524\n",
            "Epoch 20/70\n",
            "1876/1876 [==============================] - 0s 123us/step - loss: 0.1887 - acc: 0.9339 - val_loss: 0.1352 - val_acc: 0.9578\n",
            "Epoch 21/70\n",
            "1876/1876 [==============================] - 0s 127us/step - loss: 0.1822 - acc: 0.9291 - val_loss: 0.1450 - val_acc: 0.9513\n",
            "Epoch 22/70\n",
            "1876/1876 [==============================] - 0s 118us/step - loss: 0.2025 - acc: 0.9259 - val_loss: 0.1362 - val_acc: 0.9578\n",
            "Epoch 23/70\n",
            "1876/1876 [==============================] - 0s 124us/step - loss: 0.1758 - acc: 0.9398 - val_loss: 0.1371 - val_acc: 0.9535\n",
            "Epoch 24/70\n",
            "1876/1876 [==============================] - 0s 127us/step - loss: 0.1762 - acc: 0.9398 - val_loss: 0.1371 - val_acc: 0.9502\n",
            "Epoch 25/70\n",
            "1876/1876 [==============================] - 0s 129us/step - loss: 0.1852 - acc: 0.9350 - val_loss: 0.1385 - val_acc: 0.9567\n",
            "Epoch 26/70\n",
            "1876/1876 [==============================] - 0s 126us/step - loss: 0.1662 - acc: 0.9424 - val_loss: 0.1289 - val_acc: 0.9621\n",
            "Epoch 27/70\n",
            "1876/1876 [==============================] - 0s 120us/step - loss: 0.1859 - acc: 0.9296 - val_loss: 0.1350 - val_acc: 0.9643\n",
            "Epoch 28/70\n",
            "1876/1876 [==============================] - 0s 124us/step - loss: 0.1824 - acc: 0.9371 - val_loss: 0.1353 - val_acc: 0.9513\n",
            "Epoch 29/70\n",
            "1876/1876 [==============================] - 0s 119us/step - loss: 0.1787 - acc: 0.9350 - val_loss: 0.1347 - val_acc: 0.9545\n",
            "Epoch 30/70\n",
            "1876/1876 [==============================] - 0s 131us/step - loss: 0.1781 - acc: 0.9366 - val_loss: 0.1401 - val_acc: 0.9481\n",
            "Epoch 31/70\n",
            "1876/1876 [==============================] - 0s 130us/step - loss: 0.1914 - acc: 0.9248 - val_loss: 0.1297 - val_acc: 0.9524\n",
            "Epoch 32/70\n",
            "1876/1876 [==============================] - 0s 123us/step - loss: 0.1945 - acc: 0.9259 - val_loss: 0.1490 - val_acc: 0.9513\n",
            "Epoch 33/70\n",
            "1876/1876 [==============================] - 0s 132us/step - loss: 0.1758 - acc: 0.9376 - val_loss: 0.1443 - val_acc: 0.9567\n",
            "Epoch 34/70\n",
            "1876/1876 [==============================] - 0s 128us/step - loss: 0.1832 - acc: 0.9350 - val_loss: 0.1327 - val_acc: 0.9535\n",
            "Epoch 35/70\n",
            "1876/1876 [==============================] - 0s 121us/step - loss: 0.1872 - acc: 0.9318 - val_loss: 0.1423 - val_acc: 0.9545\n",
            "Epoch 36/70\n",
            "1876/1876 [==============================] - 0s 122us/step - loss: 0.1742 - acc: 0.9376 - val_loss: 0.1478 - val_acc: 0.9448\n",
            "Epoch 37/70\n",
            "1876/1876 [==============================] - 0s 126us/step - loss: 0.1829 - acc: 0.9302 - val_loss: 0.1351 - val_acc: 0.9535\n",
            "Epoch 38/70\n",
            "1876/1876 [==============================] - 0s 126us/step - loss: 0.1869 - acc: 0.9254 - val_loss: 0.1420 - val_acc: 0.9491\n",
            "Epoch 39/70\n",
            "1876/1876 [==============================] - 0s 121us/step - loss: 0.1740 - acc: 0.9371 - val_loss: 0.1277 - val_acc: 0.9578\n",
            "Epoch 40/70\n",
            "1876/1876 [==============================] - 0s 119us/step - loss: 0.1885 - acc: 0.9318 - val_loss: 0.1403 - val_acc: 0.9535\n",
            "Epoch 41/70\n",
            "1876/1876 [==============================] - 0s 125us/step - loss: 0.1807 - acc: 0.9392 - val_loss: 0.1473 - val_acc: 0.9405\n",
            "Epoch 42/70\n",
            "1876/1876 [==============================] - 0s 123us/step - loss: 0.1801 - acc: 0.9392 - val_loss: 0.1299 - val_acc: 0.9578\n",
            "Epoch 43/70\n",
            "1876/1876 [==============================] - 0s 132us/step - loss: 0.1786 - acc: 0.9334 - val_loss: 0.1291 - val_acc: 0.9600\n",
            "Epoch 44/70\n",
            "1876/1876 [==============================] - 0s 133us/step - loss: 0.1810 - acc: 0.9296 - val_loss: 0.1401 - val_acc: 0.9524\n",
            "Epoch 45/70\n",
            "1876/1876 [==============================] - 0s 133us/step - loss: 0.1592 - acc: 0.9472 - val_loss: 0.1335 - val_acc: 0.9600\n",
            "Epoch 46/70\n",
            "1876/1876 [==============================] - 0s 140us/step - loss: 0.1655 - acc: 0.9371 - val_loss: 0.1337 - val_acc: 0.9491\n",
            "Epoch 47/70\n",
            "1876/1876 [==============================] - 0s 126us/step - loss: 0.1668 - acc: 0.9414 - val_loss: 0.1342 - val_acc: 0.9567\n",
            "Epoch 48/70\n",
            "1876/1876 [==============================] - 0s 120us/step - loss: 0.1709 - acc: 0.9350 - val_loss: 0.1256 - val_acc: 0.9621\n",
            "Epoch 49/70\n",
            "1876/1876 [==============================] - 0s 129us/step - loss: 0.1679 - acc: 0.9414 - val_loss: 0.1422 - val_acc: 0.9545\n",
            "Epoch 50/70\n",
            "1876/1876 [==============================] - 0s 123us/step - loss: 0.1682 - acc: 0.9382 - val_loss: 0.1309 - val_acc: 0.9556\n",
            "Epoch 51/70\n",
            "1876/1876 [==============================] - 0s 130us/step - loss: 0.1821 - acc: 0.9339 - val_loss: 0.1274 - val_acc: 0.9610\n",
            "Epoch 52/70\n",
            "1876/1876 [==============================] - 0s 125us/step - loss: 0.1686 - acc: 0.9382 - val_loss: 0.1409 - val_acc: 0.9524\n",
            "Epoch 53/70\n",
            "1876/1876 [==============================] - 0s 125us/step - loss: 0.1651 - acc: 0.9483 - val_loss: 0.1219 - val_acc: 0.9665\n",
            "Epoch 54/70\n",
            "1876/1876 [==============================] - 0s 131us/step - loss: 0.1746 - acc: 0.9387 - val_loss: 0.1226 - val_acc: 0.9600\n",
            "Epoch 55/70\n",
            "1876/1876 [==============================] - 0s 125us/step - loss: 0.1713 - acc: 0.9451 - val_loss: 0.1251 - val_acc: 0.9643\n",
            "Epoch 56/70\n",
            "1876/1876 [==============================] - 0s 125us/step - loss: 0.1674 - acc: 0.9403 - val_loss: 0.1390 - val_acc: 0.9535\n",
            "Epoch 57/70\n",
            "1876/1876 [==============================] - 0s 122us/step - loss: 0.1826 - acc: 0.9302 - val_loss: 0.1204 - val_acc: 0.9621\n",
            "Epoch 58/70\n",
            "1876/1876 [==============================] - 0s 125us/step - loss: 0.1665 - acc: 0.9430 - val_loss: 0.1287 - val_acc: 0.9589\n",
            "Epoch 59/70\n",
            "1876/1876 [==============================] - 0s 130us/step - loss: 0.1720 - acc: 0.9270 - val_loss: 0.1263 - val_acc: 0.9643\n",
            "Epoch 60/70\n",
            "1876/1876 [==============================] - 0s 126us/step - loss: 0.1768 - acc: 0.9403 - val_loss: 0.1299 - val_acc: 0.9545\n",
            "Epoch 61/70\n",
            "1876/1876 [==============================] - 0s 128us/step - loss: 0.1620 - acc: 0.9376 - val_loss: 0.1253 - val_acc: 0.9621\n",
            "Epoch 62/70\n",
            "1876/1876 [==============================] - 0s 132us/step - loss: 0.1586 - acc: 0.9440 - val_loss: 0.1249 - val_acc: 0.9600\n",
            "Epoch 63/70\n",
            "1876/1876 [==============================] - 0s 124us/step - loss: 0.1628 - acc: 0.9440 - val_loss: 0.1371 - val_acc: 0.9470\n",
            "Epoch 64/70\n",
            "1876/1876 [==============================] - 0s 127us/step - loss: 0.1710 - acc: 0.9419 - val_loss: 0.1223 - val_acc: 0.9610\n",
            "Epoch 65/70\n",
            "1876/1876 [==============================] - 0s 125us/step - loss: 0.1642 - acc: 0.9456 - val_loss: 0.1169 - val_acc: 0.9654\n",
            "Epoch 66/70\n",
            "1876/1876 [==============================] - 0s 123us/step - loss: 0.1604 - acc: 0.9446 - val_loss: 0.1222 - val_acc: 0.9610\n",
            "Epoch 67/70\n",
            "1876/1876 [==============================] - 0s 124us/step - loss: 0.1680 - acc: 0.9371 - val_loss: 0.1264 - val_acc: 0.9600\n",
            "Epoch 68/70\n",
            "1876/1876 [==============================] - 0s 128us/step - loss: 0.1592 - acc: 0.9392 - val_loss: 0.1214 - val_acc: 0.9600\n",
            "Epoch 69/70\n",
            "1876/1876 [==============================] - 0s 121us/step - loss: 0.1583 - acc: 0.9483 - val_loss: 0.1243 - val_acc: 0.9643\n",
            "Epoch 70/70\n",
            "1876/1876 [==============================] - 0s 126us/step - loss: 0.1653 - acc: 0.9446 - val_loss: 0.1119 - val_acc: 0.9610\n"
          ],
          "name": "stdout"
        }
      ]
    },
    {
      "cell_type": "code",
      "metadata": {
        "id": "M7QaW9oR157S",
        "colab_type": "code",
        "colab": {
          "base_uri": "https://localhost:8080/",
          "height": 50
        },
        "outputId": "7b52f966-f86a-4396-9167-8b5d7ff9de20"
      },
      "source": [
        "score = model.evaluate(x_testcnn_encoded, y_test_encoded, verbose=0)\n",
        "print('Test loss:', score[0])\n",
        "print('Test accuracy:', score[1])"
      ],
      "execution_count": null,
      "outputs": [
        {
          "output_type": "stream",
          "text": [
            "Test loss: 0.11189327717988522\n",
            "Test accuracy: 0.9610389602648748\n"
          ],
          "name": "stdout"
        }
      ]
    },
    {
      "cell_type": "code",
      "metadata": {
        "id": "RZIEcUhF2KJB",
        "colab_type": "code",
        "colab": {
          "base_uri": "https://localhost:8080/",
          "height": 722
        },
        "outputId": "b0cad819-2863-4237-f90b-c91f2115a55f"
      },
      "source": [
        "predictions = model.predict_classes(x_testcnn_encoded)\n",
        "predictions\n",
        "y_test_encoded\n",
        "new_Ytest_encoded = y_test_encoded.astype(int)\n",
        "new_Ytest_encoded"
      ],
      "execution_count": null,
      "outputs": [
        {
          "output_type": "execute_result",
          "data": {
            "text/plain": [
              "array([3, 0, 3, 3, 2, 1, 4, 0, 4, 3, 5, 5, 3, 3, 3, 6, 0, 6, 5, 3, 4, 0,\n",
              "       6, 4, 0, 6, 5, 1, 0, 4, 1, 6, 0, 0, 3, 6, 5, 1, 0, 6, 2, 0, 3, 5,\n",
              "       6, 6, 0, 4, 4, 0, 1, 1, 1, 6, 3, 3, 2, 4, 2, 1, 3, 4, 6, 4, 5, 4,\n",
              "       0, 1, 4, 3, 3, 6, 1, 5, 0, 6, 4, 6, 0, 2, 0, 2, 0, 4, 6, 1, 1, 5,\n",
              "       6, 6, 5, 0, 3, 4, 0, 6, 1, 3, 3, 3, 3, 4, 5, 5, 4, 0, 4, 2, 0, 6,\n",
              "       1, 1, 4, 2, 0, 6, 0, 2, 3, 6, 3, 6, 4, 0, 3, 4, 2, 4, 0, 5, 3, 6,\n",
              "       5, 5, 5, 2, 3, 2, 3, 1, 2, 3, 4, 4, 2, 4, 4, 2, 1, 3, 6, 3, 4, 4,\n",
              "       5, 5, 0, 0, 3, 1, 1, 6, 4, 5, 1, 1, 1, 0, 2, 5, 0, 1, 1, 6, 1, 3,\n",
              "       4, 2, 5, 2, 1, 3, 2, 3, 4, 6, 6, 1, 4, 5, 6, 0, 5, 1, 6, 5, 4, 4,\n",
              "       6, 5, 3, 3, 6, 6, 0, 6, 2, 6, 3, 4, 2, 0, 3, 4, 6, 2, 2, 0, 4, 4,\n",
              "       6, 5, 2, 1, 3, 4, 0, 0, 3, 6, 4, 4, 2, 3, 2, 5, 6, 2, 3, 5, 4, 1,\n",
              "       0, 2, 1, 0, 1, 1, 4, 4, 3, 3, 2, 2, 3, 5, 3, 0, 6, 1, 3, 4, 5, 0,\n",
              "       0, 6, 5, 4, 3, 0, 3, 1, 4, 6, 0, 6, 2, 6, 1, 4, 4, 0, 4, 2, 2, 5,\n",
              "       2, 2, 6, 4, 5, 5, 3, 4, 4, 1, 4, 4, 2, 1, 4, 0, 3, 2, 4, 2, 3, 0,\n",
              "       1, 4, 5, 4, 3, 6, 3, 1, 5, 1, 4, 3, 2, 3, 2, 6, 4, 5, 6, 3, 2, 4,\n",
              "       3, 5, 6, 3, 5, 4, 2, 6, 0, 5, 5, 2, 0, 6, 5, 5, 6, 2, 1, 2, 4, 4,\n",
              "       4, 5, 6, 0, 6, 2, 1, 3, 6, 5, 4, 1, 0, 4, 3, 3, 5, 1, 0, 0, 5, 2,\n",
              "       2, 5, 1, 1, 4, 2, 1, 3, 4, 2, 3, 0, 6, 5, 4, 6, 2, 1, 1, 3, 1, 6,\n",
              "       2, 2, 0, 5, 5, 4, 3, 1, 1, 0, 2, 5, 0, 0, 6, 4, 5, 3, 6, 5, 4, 6,\n",
              "       2, 2, 4, 3, 6, 6, 6, 4, 6, 5, 5, 5, 4, 3, 2, 2, 0, 2, 0, 2, 1, 6,\n",
              "       0, 6, 6, 1, 0, 0, 5, 6, 5, 5, 0, 4, 5, 2, 2, 4, 6, 0, 5, 3, 6, 6,\n",
              "       3, 3, 0, 5, 6, 3, 3, 1, 1, 3, 4, 5, 6, 3, 5, 6, 5, 4, 4, 6, 2, 1,\n",
              "       0, 4, 0, 2, 1, 5, 1, 6, 5, 4, 5, 4, 2, 6, 5, 2, 5, 5, 4, 0, 1, 3,\n",
              "       4, 1, 4, 4, 5, 6, 3, 6, 6, 3, 0, 5, 4, 0, 1, 2, 4, 6, 0, 3, 1, 5,\n",
              "       3, 3, 0, 6, 2, 3, 6, 1, 0, 2, 1, 6, 1, 5, 5, 2, 2, 2, 2, 5, 1, 2,\n",
              "       1, 3, 5, 3, 3, 0, 3, 3, 0, 4, 6, 1, 2, 1, 0, 1, 5, 6, 1, 3, 2, 5,\n",
              "       0, 1, 3, 3, 5, 5, 4, 2, 1, 2, 0, 5, 3, 3, 6, 6, 6, 4, 6, 1, 1, 4,\n",
              "       1, 2, 5, 1, 2, 4, 5, 1, 2, 5, 0, 6, 3, 3, 5, 0, 5, 6, 3, 3, 4, 1,\n",
              "       4, 4, 2, 1, 5, 1, 0, 5, 5, 0, 1, 1, 0, 4, 2, 3, 3, 6, 5, 0, 3, 4,\n",
              "       1, 2, 0, 3, 2, 0, 6, 2, 1, 0, 5, 3, 0, 0, 6, 4, 3, 1, 5, 3, 0, 1,\n",
              "       0, 4, 0, 6, 6, 2, 5, 6, 6, 2, 2, 0, 6, 3, 1, 0, 2, 4, 3, 0, 0, 3,\n",
              "       1, 4, 6, 1, 1, 5, 0, 6, 5, 4, 1, 2, 2, 0, 6, 0, 2, 2, 5, 0, 2, 3,\n",
              "       0, 3, 0, 0, 5, 1, 4, 2, 1, 3, 5, 0, 2, 5, 3, 4, 3, 3, 1, 4, 5, 3,\n",
              "       3, 5, 3, 6, 6, 6, 4, 0, 5, 5, 3, 3, 3, 3, 1, 1, 6, 0, 4, 6, 3, 4,\n",
              "       1, 4, 0, 0, 1, 6, 1, 4, 4, 1, 5, 1, 0, 1, 2, 3, 2, 3, 1, 0, 6, 5,\n",
              "       1, 3, 6, 2, 5, 3, 4, 5, 6, 2, 6, 3, 2, 1, 5, 6, 0, 6, 4, 2, 4, 2,\n",
              "       0, 5, 3, 5, 1, 4, 3, 6, 6, 6, 6, 0, 4, 6, 0, 2, 2, 2, 5, 5, 6, 4,\n",
              "       5, 5, 6, 1, 4, 2, 0, 0, 0, 2, 3, 5, 4, 2, 1, 3, 2, 4, 4, 0, 2, 0,\n",
              "       1, 6, 5, 2, 5, 0, 1, 0, 5, 2, 2, 4, 1, 4, 3, 4, 5, 1, 5, 4, 1, 0,\n",
              "       5, 4, 6, 4, 1, 4, 1, 4, 2, 1, 2, 2, 4, 2, 4, 5, 0, 1, 2, 5, 2, 3,\n",
              "       2, 0, 5, 1, 0, 5, 1, 5, 5, 3, 2, 6, 6, 2, 2, 5, 2, 5, 4, 4, 3, 1,\n",
              "       1, 4, 3, 5, 4, 6, 0, 0, 0, 5, 1, 2, 0, 3, 2, 6, 2, 3, 2, 5, 6, 3])"
            ]
          },
          "metadata": {
            "tags": []
          },
          "execution_count": 124
        }
      ]
    },
    {
      "cell_type": "code",
      "metadata": {
        "id": "vq97wtU22YqI",
        "colab_type": "code",
        "colab": {
          "base_uri": "https://localhost:8080/",
          "height": 252
        },
        "outputId": "d37002a4-f9cd-4d33-b86e-af7351b81412"
      },
      "source": [
        "from sklearn.metrics import classification_report\n",
        "report = classification_report(new_Ytest_encoded, predictions)\n",
        "print(report)"
      ],
      "execution_count": null,
      "outputs": [
        {
          "output_type": "stream",
          "text": [
            "              precision    recall  f1-score   support\n",
            "\n",
            "           0       0.98      0.99      0.99       128\n",
            "           1       0.98      0.98      0.98       125\n",
            "           2       0.95      0.96      0.96       130\n",
            "           3       0.99      0.96      0.97       137\n",
            "           4       0.95      0.97      0.96       139\n",
            "           5       0.97      0.91      0.94       135\n",
            "           6       0.91      0.95      0.93       130\n",
            "\n",
            "    accuracy                           0.96       924\n",
            "   macro avg       0.96      0.96      0.96       924\n",
            "weighted avg       0.96      0.96      0.96       924\n",
            "\n"
          ],
          "name": "stdout"
        }
      ]
    },
    {
      "cell_type": "markdown",
      "metadata": {
        "id": "mPEAY888-ieY",
        "colab_type": "text"
      },
      "source": [
        "PLOTTING THE CONFUSION MATRIX"
      ]
    },
    {
      "cell_type": "code",
      "metadata": {
        "id": "CwWE3ilP9QbI",
        "colab_type": "code",
        "colab": {
          "base_uri": "https://localhost:8080/",
          "height": 134
        },
        "outputId": "da0c17cb-dd9f-421c-a825-a8146eee2a31"
      },
      "source": [
        "from sklearn.metrics import confusion_matrix\n",
        "matrix = confusion_matrix(new_Ytest_encoded, predictions)\n",
        "print (matrix)\n",
        "\n",
        "# 0 = angry, 1 = disgust, 2 = fear, 3 = happy, 4 = neutral, 5 = surprise, 6 = sad"
      ],
      "execution_count": null,
      "outputs": [
        {
          "output_type": "stream",
          "text": [
            "[[127   0   0   0   1   0   0]\n",
            " [  0 123   0   0   0   2   0]\n",
            " [  0   0 125   0   1   0   4]\n",
            " [  0   0   0 132   5   0   0]\n",
            " [  2   0   0   2 135   0   0]\n",
            " [  0   3   1   0   0 123   8]\n",
            " [  0   0   5   0   0   2 123]]\n"
          ],
          "name": "stdout"
        }
      ]
    },
    {
      "cell_type": "markdown",
      "metadata": {
        "id": "cYq4-jeg-fur",
        "colab_type": "text"
      },
      "source": [
        "SAVE THE MODEL"
      ]
    },
    {
      "cell_type": "code",
      "metadata": {
        "id": "dYxQqcNq-Bjh",
        "colab_type": "code",
        "colab": {
          "base_uri": "https://localhost:8080/",
          "height": 34
        },
        "outputId": "0e3c644c-8658-462a-fc56-f940e909b112"
      },
      "source": [
        "model_name = 'Emotion_Voice_Detection_Model_TORONTO.h5'\n",
        "save_dir = '/content/drive/My Drive/Toronto_model'\n",
        "# Save model and weights\n",
        "if not os.path.isdir(save_dir):\n",
        "    os.makedirs(save_dir)\n",
        "model_path = os.path.join(save_dir, model_name)\n",
        "model.save(model_path)\n",
        "print('Saved trained model at %s ' % model_path)"
      ],
      "execution_count": null,
      "outputs": [
        {
          "output_type": "stream",
          "text": [
            "Saved trained model at /content/drive/My Drive/Toronto_model/Emotion_Voice_Detection_Model_TORONTO.h5 \n"
          ],
          "name": "stdout"
        }
      ]
    },
    {
      "cell_type": "code",
      "metadata": {
        "id": "VTlyAvF6-MaI",
        "colab_type": "code",
        "colab": {
          "base_uri": "https://localhost:8080/",
          "height": 403
        },
        "outputId": "4931e5ef-f60f-4557-e103-8e50d11a3029"
      },
      "source": [
        "loaded_model = keras.models.load_model('/content/drive/My Drive/Toronto_model/Emotion_Voice_Detection_Model_TORONTO.h5')\n",
        "loaded_model.summary()\n",
        "loss, acc = loaded_model.evaluate(x_testcnn_encoded, y_test_encoded)\n",
        "print(\"Restored model, accuracy: {:5.2f}%\".format(100*acc))"
      ],
      "execution_count": null,
      "outputs": [
        {
          "output_type": "stream",
          "text": [
            "_________________________________________________________________\n",
            "Layer (type)                 Output Shape              Param #   \n",
            "=================================================================\n",
            "conv1d_24 (Conv1D)           (None, 128, 32)           192       \n",
            "_________________________________________________________________\n",
            "max_pooling1d_14 (MaxPooling (None, 16, 32)            0         \n",
            "_________________________________________________________________\n",
            "dropout_25 (Dropout)         (None, 16, 32)            0         \n",
            "_________________________________________________________________\n",
            "flatten_14 (Flatten)         (None, 512)               0         \n",
            "_________________________________________________________________\n",
            "dense_76 (Dense)             (None, 128)               65664     \n",
            "_________________________________________________________________\n",
            "dropout_26 (Dropout)         (None, 128)               0         \n",
            "_________________________________________________________________\n",
            "dense_77 (Dense)             (None, 7)                 903       \n",
            "=================================================================\n",
            "Total params: 66,759\n",
            "Trainable params: 66,759\n",
            "Non-trainable params: 0\n",
            "_________________________________________________________________\n",
            "924/924 [==============================] - 1s 1ms/step\n",
            "Restored model, accuracy: 96.10%\n"
          ],
          "name": "stdout"
        }
      ]
    }
  ]
}