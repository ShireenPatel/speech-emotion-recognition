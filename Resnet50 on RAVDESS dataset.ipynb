{
 "cells": [
  {
   "cell_type": "code",
   "execution_count": 2,
   "metadata": {},
   "outputs": [
    {
     "name": "stdout",
     "output_type": "stream",
     "text": [
      "Requirement already satisfied: opencv-python in c:\\users\\shireen\\lib\\site-packages (4.4.0.40)\n",
      "Requirement already satisfied: numpy>=1.17.3 in c:\\users\\shireen\\lib\\site-packages (from opencv-python) (1.18.5)\n"
     ]
    }
   ],
   "source": [
    "!pip install opencv-python\n",
    "import os\n",
    "import cv2\n",
    "import numpy as np\n",
    "from PIL import Image\n",
    "import matplotlib.pyplot as plt\n",
    "from sklearn.model_selection import train_test_split"
   ]
  },
  {
   "cell_type": "code",
   "execution_count": 1,
   "metadata": {},
   "outputs": [
    {
     "ename": "NameError",
     "evalue": "name 'os' is not defined",
     "output_type": "error",
     "traceback": [
      "\u001b[1;31m---------------------------------------------------------------------------\u001b[0m",
      "\u001b[1;31mNameError\u001b[0m                                 Traceback (most recent call last)",
      "\u001b[1;32m<ipython-input-1-6f5ec889b3fd>\u001b[0m in \u001b[0;36m<module>\u001b[1;34m\u001b[0m\n\u001b[1;32m----> 1\u001b[1;33m \u001b[0mcategories\u001b[0m \u001b[1;33m=\u001b[0m \u001b[0mos\u001b[0m\u001b[1;33m.\u001b[0m\u001b[0mlistdir\u001b[0m\u001b[1;33m(\u001b[0m\u001b[1;34m\"C:/Users/Shireen/A FINAL SER ATTEMPT/data/spectograms/images/\"\u001b[0m\u001b[1;33m)\u001b[0m\u001b[1;33m\u001b[0m\u001b[1;33m\u001b[0m\u001b[0m\n\u001b[0m\u001b[0;32m      2\u001b[0m \u001b[1;32mdef\u001b[0m \u001b[0mload_images_and_labels\u001b[0m\u001b[1;33m(\u001b[0m\u001b[0mcategories\u001b[0m\u001b[1;33m)\u001b[0m\u001b[1;33m:\u001b[0m\u001b[1;33m\u001b[0m\u001b[1;33m\u001b[0m\u001b[0m\n\u001b[0;32m      3\u001b[0m     \u001b[0mimg_lst\u001b[0m\u001b[1;33m=\u001b[0m\u001b[1;33m[\u001b[0m\u001b[1;33m]\u001b[0m\u001b[1;33m\u001b[0m\u001b[1;33m\u001b[0m\u001b[0m\n\u001b[0;32m      4\u001b[0m     \u001b[0mlabels\u001b[0m\u001b[1;33m=\u001b[0m\u001b[1;33m[\u001b[0m\u001b[1;33m]\u001b[0m\u001b[1;33m\u001b[0m\u001b[1;33m\u001b[0m\u001b[0m\n\u001b[0;32m      5\u001b[0m     \u001b[1;32mfor\u001b[0m \u001b[0mindex\u001b[0m\u001b[1;33m,\u001b[0m \u001b[0mcategory\u001b[0m \u001b[1;32min\u001b[0m \u001b[0menumerate\u001b[0m\u001b[1;33m(\u001b[0m\u001b[0mcategories\u001b[0m\u001b[1;33m)\u001b[0m\u001b[1;33m:\u001b[0m\u001b[1;33m\u001b[0m\u001b[1;33m\u001b[0m\u001b[0m\n",
      "\u001b[1;31mNameError\u001b[0m: name 'os' is not defined"
     ]
    }
   ],
   "source": [
    "categories = os.listdir(\"C:/Users/Shireen/A FINAL SER ATTEMPT/data/spectograms/images/\")\n",
    "def load_images_and_labels(categories):\n",
    "    img_lst=[]\n",
    "    labels=[]\n",
    "    for index, category in enumerate(categories):\n",
    "        for image_name in os.listdir(fpath+\"/\"+category):\n",
    "            img = cv2.imread(fpath+\"/\"+category+\"/\"+image_name)\n",
    "            img = cv2.cvtColor(img, cv2.COLOR_BGR2RGB)\n",
    "            \n",
    "            img_array = Image.fromarray(img, 'RGB')\n",
    "            \n",
    "            #resize image to 224 x 224 because the input image resolution for Resnet50 is 224 x 224\n",
    "            resized_img = img_array.resize((224, 224))\n",
    "            \n",
    "            img_lst.append(np.array(resized_img))\n",
    "            \n",
    "            labels.append(index)\n",
    "    return img_lst, labels\n",
    "\n",
    "fpath = \"C:/Users/Shireen/A FINAL SER ATTEMPT/data/spectograms/images/\"\n",
    "images, labels = load_images_and_labels(categories)\n",
    "print(\"No. of images loaded = \",len(images),\"\\nNo. of labels loaded = \",len(labels))\n",
    "print(type(images),type(labels))"
   ]
  },
  {
   "cell_type": "code",
   "execution_count": 3,
   "metadata": {},
   "outputs": [
    {
     "name": "stdout",
     "output_type": "stream",
     "text": [
      "Images shape =  (1440, 224, 224, 3) \n",
      "Labels shape =  (1440,)\n",
      "<class 'numpy.ndarray'> <class 'numpy.ndarray'>\n"
     ]
    }
   ],
   "source": [
    "images = np.array(images)\n",
    "labels = np.array(labels)\n",
    "\n",
    "print(\"Images shape = \",images.shape,\"\\nLabels shape = \",labels.shape)\n",
    "print(type(images),type(labels))"
   ]
  },
  {
   "cell_type": "code",
   "execution_count": 4,
   "metadata": {},
   "outputs": [
    {
     "name": "stdout",
     "output_type": "stream",
     "text": [
      "x_train shape =  (1152, 224, 224, 3)\n",
      "y_train shape =  (1152,)\n",
      "\n",
      "x_test shape =  (288, 224, 224, 3)\n",
      "y_test shape =  (288,)\n"
     ]
    }
   ],
   "source": [
    "x_train, x_test, y_train, y_test = train_test_split(images, labels, test_size = 0.2, random_state = 42)\n",
    "\n",
    "print(\"x_train shape = \",x_train.shape)\n",
    "print(\"y_train shape = \",y_train.shape)\n",
    "print(\"\\nx_test shape = \",x_test.shape)\n",
    "print(\"y_test shape = \",y_test.shape)"
   ]
  },
  {
   "cell_type": "code",
   "execution_count": 5,
   "metadata": {},
   "outputs": [
    {
     "name": "stdout",
     "output_type": "stream",
     "text": [
      "number of training examples = 1152\n",
      "number of test examples = 288\n",
      "X_train shape: (1152, 224, 224, 3)\n",
      "Y_train shape: (1152, 8)\n",
      "X_test shape: (288, 224, 224, 3)\n",
      "Y_test shape: (288, 8)\n"
     ]
    }
   ],
   "source": [
    "from keras.utils import np_utils\n",
    "from keras.utils import to_categorical\n",
    "X_train = x_train/255.\n",
    "X_test = x_test/255.\n",
    "\n",
    "# Convert training and test labels to one hot matrices\n",
    "Y_train = np_utils.to_categorical(y_train, 8)\n",
    "Y_test = np_utils.to_categorical(y_test, 8)\n",
    "\n",
    "print (\"number of training examples = \" + str(X_train.shape[0]))\n",
    "print (\"number of test examples = \" + str(X_test.shape[0]))\n",
    "print (\"X_train shape: \" + str(X_train.shape))\n",
    "print (\"Y_train shape: \" + str(Y_train.shape))\n",
    "print (\"X_test shape: \" + str(X_test.shape))\n",
    "print (\"Y_test shape: \" + str(Y_test.shape))"
   ]
  },
  {
   "cell_type": "code",
   "execution_count": 6,
   "metadata": {},
   "outputs": [],
   "source": [
    "from keras.applications.resnet50 import ResNet50\n",
    "from keras.models import Model\n",
    "import keras"
   ]
  },
  {
   "cell_type": "code",
   "execution_count": 7,
   "metadata": {},
   "outputs": [],
   "source": [
    "img_height,img_width = 224,224 \n",
    "num_classes = 8\n",
    "#If imagenet weights are being loaded, \n",
    "#input must have a static square shape (one of (128, 128), (160, 160), (192, 192), or (224, 224))\n",
    "base_model = ResNet50(weights= 'imagenet', include_top=False, input_shape= (224,224,3))"
   ]
  },
  {
   "cell_type": "code",
   "execution_count": 8,
   "metadata": {},
   "outputs": [],
   "source": [
    "from keras.layers import Conv2D, MaxPooling2D, Flatten, Dense, Dropout, InputLayer\n",
    "from keras.models import Sequential\n",
    "from keras import optimizers\n",
    "from keras.layers import GlobalAveragePooling2D"
   ]
  },
  {
   "cell_type": "code",
   "execution_count": 9,
   "metadata": {},
   "outputs": [],
   "source": [
    "x = base_model.output\n",
    "x = GlobalAveragePooling2D()(x)\n",
    "x = Dropout(0.7)(x)\n",
    "predictions = Dense(num_classes, activation= 'softmax')(x)\n",
    "model = Model(inputs = base_model.input, outputs = predictions)"
   ]
  },
  {
   "cell_type": "code",
   "execution_count": 11,
   "metadata": {},
   "outputs": [],
   "source": [
    "from keras.optimizers import SGD, Adam\n",
    "# sgd = SGD(lr=lrate, momentum=0.9, decay=decay, nesterov=False)\n",
    "adam = Adam(lr=0.0001)\n",
    "model.compile(optimizer= adam, loss='categorical_crossentropy', metrics=['accuracy'])"
   ]
  },
  {
   "cell_type": "code",
   "execution_count": 12,
   "metadata": {},
   "outputs": [
    {
     "name": "stdout",
     "output_type": "stream",
     "text": [
      "Epoch 1/20\n",
      "18/18 [==============================] - 748s 42s/step - loss: 2.3827 - accuracy: 0.2179 - val_loss: 2.3746 - val_accuracy: 0.1215\n",
      "Epoch 2/20\n",
      "18/18 [==============================] - 826s 46s/step - loss: 1.2610 - accuracy: 0.5530 - val_loss: 2.3425 - val_accuracy: 0.1215\n",
      "Epoch 3/20\n",
      "18/18 [==============================] - 782s 43s/step - loss: 0.6485 - accuracy: 0.7752 - val_loss: 2.3189 - val_accuracy: 0.1215\n",
      "Epoch 4/20\n",
      "18/18 [==============================] - 997s 55s/step - loss: 0.3123 - accuracy: 0.9123 - val_loss: 2.3146 - val_accuracy: 0.1458\n",
      "Epoch 5/20\n",
      "18/18 [==============================] - 1175s 65s/step - loss: 0.1559 - accuracy: 0.9644 - val_loss: 2.2359 - val_accuracy: 0.1111\n",
      "Epoch 6/20\n",
      "18/18 [==============================] - 1138s 63s/step - loss: 0.0752 - accuracy: 0.9844 - val_loss: 2.2409 - val_accuracy: 0.1458\n",
      "Epoch 7/20\n",
      "18/18 [==============================] - 1218s 68s/step - loss: 0.0387 - accuracy: 0.9965 - val_loss: 2.2731 - val_accuracy: 0.1458\n",
      "Epoch 8/20\n",
      "18/18 [==============================] - 1133s 63s/step - loss: 0.0254 - accuracy: 0.9991 - val_loss: 2.2573 - val_accuracy: 0.1458\n",
      "Epoch 9/20\n",
      "18/18 [==============================] - 941s 52s/step - loss: 0.0198 - accuracy: 0.9974 - val_loss: 2.2658 - val_accuracy: 0.1458\n",
      "Epoch 10/20\n",
      "18/18 [==============================] - 732s 41s/step - loss: 0.0116 - accuracy: 0.9991 - val_loss: 2.2281 - val_accuracy: 0.1458\n",
      "Epoch 11/20\n",
      "18/18 [==============================] - 741s 41s/step - loss: 0.0088 - accuracy: 1.0000 - val_loss: 2.1987 - val_accuracy: 0.1458\n",
      "Epoch 12/20\n",
      "18/18 [==============================] - 747s 42s/step - loss: 0.0060 - accuracy: 1.0000 - val_loss: 2.1932 - val_accuracy: 0.1458\n",
      "Epoch 13/20\n",
      "18/18 [==============================] - 749s 42s/step - loss: 0.0071 - accuracy: 0.9991 - val_loss: 2.2048 - val_accuracy: 0.1458\n",
      "Epoch 14/20\n",
      "18/18 [==============================] - 748s 42s/step - loss: 0.0040 - accuracy: 1.0000 - val_loss: 2.2121 - val_accuracy: 0.1458\n",
      "Epoch 15/20\n",
      "18/18 [==============================] - 778s 43s/step - loss: 0.0041 - accuracy: 1.0000 - val_loss: 2.2128 - val_accuracy: 0.1528\n",
      "Epoch 16/20\n",
      "18/18 [==============================] - 908s 50s/step - loss: 0.0035 - accuracy: 1.0000 - val_loss: 2.2202 - val_accuracy: 0.1528\n",
      "Epoch 17/20\n",
      "18/18 [==============================] - 938s 52s/step - loss: 0.0030 - accuracy: 1.0000 - val_loss: 2.2188 - val_accuracy: 0.1632\n",
      "Epoch 18/20\n",
      "18/18 [==============================] - 1097s 61s/step - loss: 0.0026 - accuracy: 1.0000 - val_loss: 2.2261 - val_accuracy: 0.1632\n",
      "Epoch 19/20\n",
      "18/18 [==============================] - 911s 51s/step - loss: 0.0018 - accuracy: 1.0000 - val_loss: 2.2278 - val_accuracy: 0.1632\n",
      "Epoch 20/20\n",
      "18/18 [==============================] - 1090s 61s/step - loss: 0.0019 - accuracy: 1.0000 - val_loss: 2.2395 - val_accuracy: 0.1597\n"
     ]
    },
    {
     "data": {
      "text/plain": [
       "<tensorflow.python.keras.callbacks.History at 0x12361bab4c0>"
      ]
     },
     "execution_count": 12,
     "metadata": {},
     "output_type": "execute_result"
    }
   ],
   "source": [
    "model.fit(X_train, Y_train, epochs = 20, batch_size=64, validation_data=(X_test, Y_test))"
   ]
  },
  {
   "cell_type": "code",
   "execution_count": 13,
   "metadata": {},
   "outputs": [
    {
     "name": "stdout",
     "output_type": "stream",
     "text": [
      "Test loss: 2.2395379543304443\n",
      "Test accuracy: 0.1597222238779068\n"
     ]
    }
   ],
   "source": [
    "score = model.evaluate(X_test, Y_test, verbose=0)\n",
    "print('Test loss:', score[0])\n",
    "print('Test accuracy:', score[1])"
   ]
  }
 ],
 "metadata": {
  "kernelspec": {
   "display_name": "Python 3",
   "language": "python",
   "name": "python3"
  },
  "language_info": {
   "codemirror_mode": {
    "name": "ipython",
    "version": 3
   },
   "file_extension": ".py",
   "mimetype": "text/x-python",
   "name": "python",
   "nbconvert_exporter": "python",
   "pygments_lexer": "ipython3",
   "version": "3.8.5"
  }
 },
 "nbformat": 4,
 "nbformat_minor": 4
}
